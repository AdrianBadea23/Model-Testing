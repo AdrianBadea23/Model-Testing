{
  "nbformat": 4,
  "nbformat_minor": 0,
  "metadata": {
    "colab": {
      "provenance": [],
      "authorship_tag": "ABX9TyN5/xen1uktH1BFSw8Au0gi"
    },
    "kernelspec": {
      "name": "python3",
      "display_name": "Python 3"
    },
    "language_info": {
      "name": "python"
    }
  },
  "cells": [
    {
      "cell_type": "code",
      "execution_count": 1,
      "metadata": {
        "id": "43-NId7Vc4HZ"
      },
      "outputs": [],
      "source": [
        "# Computer vision libraries in Pytorch\n",
        "\n",
        "# torchvision\n",
        "# torchvision.datasets - get datasets and data loading funtions\n",
        "# torchvision.problems - pretrained models\n",
        "# torchvision.transforms - functions to manipulate your vision data\n",
        "# torch.utils.data.Dataset - Base dataset class in Pytorch\n",
        "# torch.utils.data.DataLoader - Creates a python iterable over a dataset"
      ]
    },
    {
      "cell_type": "code",
      "source": [
        "import torch\n",
        "from torch import nn\n",
        "import torchvision\n",
        "from torchvision import datasets, transforms\n",
        "from torchvision.transforms import ToTensor\n",
        "import matplotlib.pyplot as plt\n",
        "\n",
        "print(torch.__version__)\n",
        "print(torchvision.__version__)"
      ],
      "metadata": {
        "colab": {
          "base_uri": "https://localhost:8080/"
        },
        "id": "d_ax37QdeNnO",
        "outputId": "97c5f9ec-ec3c-4b64-d609-075166530de3"
      },
      "execution_count": 2,
      "outputs": [
        {
          "output_type": "stream",
          "name": "stdout",
          "text": [
            "2.4.1+cu121\n",
            "0.19.1+cu121\n"
          ]
        }
      ]
    },
    {
      "cell_type": "code",
      "source": [
        "# Getting a dataset - FashionMNIST\n",
        "\n",
        "# Setup training data\n",
        "train_data = datasets.FashionMNIST(\n",
        "    root=\"data\", # where to download\n",
        "    train=True, # is it the training dataset?\n",
        "    download=True, # do you want to download?\n",
        "    transform=ToTensor(), # how to transform the data?\n",
        "    target_transform=None # how do we want to transform the targets/labels?\n",
        ")\n",
        "\n",
        "# Setup testing data\n",
        "test_data = datasets.FashionMNIST(\n",
        "    root=\"data\",\n",
        "    train=False,\n",
        "    download=True,\n",
        "    transform=ToTensor(),\n",
        "    target_transform=None\n",
        ")"
      ],
      "metadata": {
        "id": "TPnQUAc_ezym"
      },
      "execution_count": 5,
      "outputs": []
    },
    {
      "cell_type": "code",
      "source": [
        "len(train_data), len(test_data)"
      ],
      "metadata": {
        "colab": {
          "base_uri": "https://localhost:8080/"
        },
        "id": "pGwZlXDrk1ZO",
        "outputId": "dd535705-d352-4740-a684-487c0c84b643"
      },
      "execution_count": 6,
      "outputs": [
        {
          "output_type": "execute_result",
          "data": {
            "text/plain": [
              "(60000, 10000)"
            ]
          },
          "metadata": {},
          "execution_count": 6
        }
      ]
    },
    {
      "cell_type": "code",
      "source": [
        "image, label = train_data[0]\n",
        "image.shape, label"
      ],
      "metadata": {
        "colab": {
          "base_uri": "https://localhost:8080/"
        },
        "id": "06ltLRSYl_hw",
        "outputId": "ec9ac0ef-92ac-4fe4-b257-912e78f85b3c"
      },
      "execution_count": 8,
      "outputs": [
        {
          "output_type": "execute_result",
          "data": {
            "text/plain": [
              "(torch.Size([1, 28, 28]), 9)"
            ]
          },
          "metadata": {},
          "execution_count": 8
        }
      ]
    },
    {
      "cell_type": "code",
      "source": [
        "class_names = train_data.classes\n",
        "class_names"
      ],
      "metadata": {
        "colab": {
          "base_uri": "https://localhost:8080/"
        },
        "id": "J03ek0E4mZ2J",
        "outputId": "8f91cbe0-fb5f-486f-a1e5-98e05ea7aad6"
      },
      "execution_count": 9,
      "outputs": [
        {
          "output_type": "execute_result",
          "data": {
            "text/plain": [
              "['T-shirt/top',\n",
              " 'Trouser',\n",
              " 'Pullover',\n",
              " 'Dress',\n",
              " 'Coat',\n",
              " 'Sandal',\n",
              " 'Shirt',\n",
              " 'Sneaker',\n",
              " 'Bag',\n",
              " 'Ankle boot']"
            ]
          },
          "metadata": {},
          "execution_count": 9
        }
      ]
    },
    {
      "cell_type": "code",
      "source": [
        "class_to_idx = train_data.class_to_idx\n",
        "class_to_idx"
      ],
      "metadata": {
        "colab": {
          "base_uri": "https://localhost:8080/"
        },
        "id": "dlG1bTzWmkHo",
        "outputId": "d2aed082-0c22-4276-bcc6-21c17bf83828"
      },
      "execution_count": 10,
      "outputs": [
        {
          "output_type": "execute_result",
          "data": {
            "text/plain": [
              "{'T-shirt/top': 0,\n",
              " 'Trouser': 1,\n",
              " 'Pullover': 2,\n",
              " 'Dress': 3,\n",
              " 'Coat': 4,\n",
              " 'Sandal': 5,\n",
              " 'Shirt': 6,\n",
              " 'Sneaker': 7,\n",
              " 'Bag': 8,\n",
              " 'Ankle boot': 9}"
            ]
          },
          "metadata": {},
          "execution_count": 10
        }
      ]
    },
    {
      "cell_type": "code",
      "source": [
        "print(f\"Image shape: {image.shape} -> # color channels, height, width | Label: {label}\")"
      ],
      "metadata": {
        "colab": {
          "base_uri": "https://localhost:8080/"
        },
        "id": "NxcA6GRwmrVr",
        "outputId": "b879a224-50f7-4d5f-c27b-a610ad79ed19"
      },
      "execution_count": 13,
      "outputs": [
        {
          "output_type": "stream",
          "name": "stdout",
          "text": [
            "Image shape: torch.Size([1, 28, 28]) -> # color channels, height, width | Label: 9\n"
          ]
        }
      ]
    },
    {
      "cell_type": "code",
      "source": [
        "# Visualizing our data\n",
        "plt.imshow(image.squeeze(), cmap = \"gray\")\n",
        "plt.title(class_names[label])\n",
        "plt.axis(\"off\")\n",
        "plt.show()"
      ],
      "metadata": {
        "colab": {
          "base_uri": "https://localhost:8080/",
          "height": 428
        },
        "id": "RVXHzAjKnCUO",
        "outputId": "b1f4a8ac-7f95-48e7-c452-1fc5e1c5ccbc"
      },
      "execution_count": 18,
      "outputs": [
        {
          "output_type": "display_data",
          "data": {
            "text/plain": [
              "<Figure size 640x480 with 1 Axes>"
            ],
            "image/png": "[encoded data removed]"
          },
          "metadata": {}
        }
      ]
    },
    {
      "cell_type": "code",
      "source": [
        "torch.manual_seed(8)\n",
        "fig = plt.figure(figsize=(9, 9))\n",
        "rows, cols = 4, 4\n",
        "for i in range(1, rows * cols + 1):\n",
        "    random_idx = torch.randint(0, len(train_data), size=[1]).item()\n",
        "    img, label = train_data[random_idx]\n",
        "    fig.add_subplot(rows, cols, i)\n",
        "    plt.imshow(img.squeeze(), cmap=\"gray\")\n",
        "    plt.title(class_names[label])\n",
        "    plt.axis(False)\n",
        "plt.show()"
      ],
      "metadata": {
        "colab": {
          "base_uri": "https://localhost:8080/",
          "height": 752
        },
        "id": "WjRUHrscn1CU",
        "outputId": "113bd9c2-9ba3-4e40-cad8-d86caa44bc7b"
      },
      "execution_count": 20,
      "outputs": [
        {
          "output_type": "display_data",
          "data": {
            "text/plain": [
              "<Figure size 900x900 with 16 Axes>"
            ],
            "image/png": "[encoded data removed]"
          },
          "metadata": {}
        }
      ]
    },
    {
      "cell_type": "code",
      "source": [
        "train_data, test_data"
      ],
      "metadata": {
        "colab": {
          "base_uri": "https://localhost:8080/"
        },
        "id": "Y58nSzLSowt8",
        "outputId": "00087806-590a-468c-8afc-fa016d99a5b8"
      },
      "execution_count": 21,
      "outputs": [
        {
          "output_type": "execute_result",
          "data": {
            "text/plain": [
              "(Dataset FashionMNIST\n",
              "     Number of datapoints: 60000\n",
              "     Root location: data\n",
              "     Split: Train\n",
              "     StandardTransform\n",
              " Transform: ToTensor(),\n",
              " Dataset FashionMNIST\n",
              "     Number of datapoints: 10000\n",
              "     Root location: data\n",
              "     Split: Test\n",
              "     StandardTransform\n",
              " Transform: ToTensor())"
            ]
          },
          "metadata": {},
          "execution_count": 21
        }
      ]
    },
    {
      "cell_type": "code",
      "source": [
        "# DataLoader turns our dataset into a Python iterable\n",
        "# Turn the data into batches\n",
        "# Why? It is more efficient - your computer may not be able to look at 60000 images in one hit so we break it down\n",
        "# It gives our NN to update its gradients per epoch"
      ],
      "metadata": {
        "id": "E6GLeWAQp4fQ"
      },
      "execution_count": 22,
      "outputs": []
    },
    {
      "cell_type": "code",
      "source": [
        "from torch.utils.data import DataLoader\n",
        "\n",
        "BATCH_SIZE = 32\n",
        "train_dataloader = DataLoader(train_data,\n",
        "                              batch_size=BATCH_SIZE,\n",
        "                              shuffle=True)\n",
        "\n",
        "test_dataloader = DataLoader(test_data,\n",
        "                             batch_size=BATCH_SIZE,\n",
        "                             shuffle=False)\n",
        "\n",
        "train_dataloader, test_dataloader"
      ],
      "metadata": {
        "colab": {
          "base_uri": "https://localhost:8080/"
        },
        "id": "81-F8qdwrXTH",
        "outputId": "29e62340-6911-4576-f303-bac79aef2a93"
      },
      "execution_count": 23,
      "outputs": [
        {
          "output_type": "execute_result",
          "data": {
            "text/plain": [
              "(<torch.utils.data.dataloader.DataLoader at 0x7cb43f30fa30>,\n",
              " <torch.utils.data.dataloader.DataLoader at 0x7cb43f30ee00>)"
            ]
          },
          "metadata": {},
          "execution_count": 23
        }
      ]
    },
    {
      "cell_type": "code",
      "source": [
        "print(f\"Dataloader: {train_dataloader}\\nLength: {len(train_dataloader)} of batch size {BATCH_SIZE}\\nLength: {len(test_dataloader)} of batch size {BATCH_SIZE}\\nType: {type(train_dataloader)}\")"
      ],
      "metadata": {
        "colab": {
          "base_uri": "https://localhost:8080/"
        },
        "id": "MGhbp_BvsPLW",
        "outputId": "577d140c-46f8-4804-c3fc-ebcb65575ea9"
      },
      "execution_count": 26,
      "outputs": [
        {
          "output_type": "stream",
          "name": "stdout",
          "text": [
            "Dataloader: <torch.utils.data.dataloader.DataLoader object at 0x7cb43f30fa30>\n",
            "Length: 1875 of batch size 32\n",
            "Length: 313 of batch size 32\n",
            "Type: <class 'torch.utils.data.dataloader.DataLoader'>\n"
          ]
        }
      ]
    },
    {
      "cell_type": "code",
      "source": [
        "# What is inside the training dataloader\n",
        "train_features_batch, train_labels_batch = next(iter(train_dataloader))\n",
        "train_features_batch.shape, train_labels_batch.shape"
      ],
      "metadata": {
        "colab": {
          "base_uri": "https://localhost:8080/"
        },
        "id": "0-ZD2CvItDxa",
        "outputId": "2b0277fe-9a16-4c26-b7ff-7091cb0dc7bf"
      },
      "execution_count": 27,
      "outputs": [
        {
          "output_type": "execute_result",
          "data": {
            "text/plain": [
              "(torch.Size([32, 1, 28, 28]), torch.Size([32]))"
            ]
          },
          "metadata": {},
          "execution_count": 27
        }
      ]
    },
    {
      "cell_type": "code",
      "source": [
        "torch.manual_seed(8)\n",
        "random_idx = torch.randint(0, len(train_features_batch), size=[1]).item()\n",
        "img, label = train_features_batch[random_idx], train_labels_batch[random_idx]\n",
        "plt.imshow(img.squeeze(), cmap=\"gray\")\n",
        "plt.title(class_names[label])\n",
        "plt.axis(False)\n",
        "plt.show()"
      ],
      "metadata": {
        "colab": {
          "base_uri": "https://localhost:8080/",
          "height": 428
        },
        "id": "D4OkOfuAsYR2",
        "outputId": "8f724703-bef0-4b3e-a1e5-82da82924e08"
      },
      "execution_count": 28,
      "outputs": [
        {
          "output_type": "display_data",
          "data": {
            "text/plain": [
              "<Figure size 640x480 with 1 Axes>"
            ],
            "image/png": "[encoded data removed]"
          },
          "metadata": {}
        }
      ]
    },
    {
      "cell_type": "code",
      "source": [
        "# Build a baseline\n",
        "# When starting to build a series of machine learning modelling experiments its best practice to start with a baseline model.\n",
        "# Start simply and add complexity if necessary"
      ],
      "metadata": {
        "id": "XO51n5gHtmWG"
      },
      "execution_count": 30,
      "outputs": []
    },
    {
      "cell_type": "code",
      "source": [
        "flatten_layer = nn.Flatten()\n",
        "\n",
        "# Get a single sample\n",
        "\n",
        "x = train_features_batch[0]\n",
        "x = flatten_layer(x)\n",
        "print(x.shape)"
      ],
      "metadata": {
        "colab": {
          "base_uri": "https://localhost:8080/"
        },
        "id": "PL4zcT-qxgjt",
        "outputId": "c6ff9b73-2fad-4e08-8e46-2819f38dd93b"
      },
      "execution_count": 37,
      "outputs": [
        {
          "output_type": "stream",
          "name": "stdout",
          "text": [
            "torch.Size([1, 784])\n"
          ]
        }
      ]
    },
    {
      "cell_type": "code",
      "source": [
        "class FashionMnistV0(nn.Module):\n",
        "  def __init__(self, input_shape: int, hidden_units: int, output_shape: int):\n",
        "    super().__init__()\n",
        "    self.layer_stack = nn.Sequential(\n",
        "      nn.Flatten(),\n",
        "      nn.Linear(in_features=input_shape,\n",
        "                out_features=hidden_units),\n",
        "      nn.Linear(in_features=hidden_units,\n",
        "                out_features=output_shape)\n",
        "    )\n",
        "\n",
        "  def forward(self, x):\n",
        "    return self.layer_stack(x)\n"
      ],
      "metadata": {
        "id": "iLIf2Fwvxy7N"
      },
      "execution_count": 38,
      "outputs": []
    },
    {
      "cell_type": "code",
      "source": [
        "torch.manual_seed(8)\n",
        "model_0 = FashionMnistV0(input_shape=784, # this is 28*28\n",
        "                         hidden_units=10, # how many units in the hidden layer\n",
        "                         output_shape=len(class_names) # one for every class\n",
        "                         ).to(\"cpu\")\n",
        "\n",
        "model_0"
      ],
      "metadata": {
        "colab": {
          "base_uri": "https://localhost:8080/"
        },
        "id": "si6z-xRn09F4",
        "outputId": "70d2fb24-8160-47a1-a9bb-45b3dfb8c3bf"
      },
      "execution_count": 39,
      "outputs": [
        {
          "output_type": "execute_result",
          "data": {
            "text/plain": [
              "FashionMnistV0(\n",
              "  (layer_stack): Sequential(\n",
              "    (0): Flatten(start_dim=1, end_dim=-1)\n",
              "    (1): Linear(in_features=784, out_features=10, bias=True)\n",
              "    (2): Linear(in_features=10, out_features=10, bias=True)\n",
              "  )\n",
              ")"
            ]
          },
          "metadata": {},
          "execution_count": 39
        }
      ]
    },
    {
      "cell_type": "code",
      "source": [
        "dummy_x = torch.rand([1,1,28,28])\n",
        "model_0(dummy_x)"
      ],
      "metadata": {
        "colab": {
          "base_uri": "https://localhost:8080/"
        },
        "id": "d9TBPevC1YSW",
        "outputId": "ceb341d3-a1b2-46d1-f073-089bc8cf1e62"
      },
      "execution_count": 42,
      "outputs": [
        {
          "output_type": "execute_result",
          "data": {
            "text/plain": [
              "tensor([[ 0.1688,  0.3662,  0.2625, -0.2519,  0.0869,  0.1734,  0.0407, -0.2320,\n",
              "         -0.1461,  0.1613]], grad_fn=<AddmmBackward0>)"
            ]
          },
          "metadata": {},
          "execution_count": 42
        }
      ]
    },
    {
      "cell_type": "code",
      "source": [
        "model_0.state_dict()"
      ],
      "metadata": {
        "colab": {
          "base_uri": "https://localhost:8080/"
        },
        "id": "o2ZeVIsa1av-",
        "outputId": "99dc36c7-a3f8-4e16-ff9f-42323cd55191"
      },
      "execution_count": 43,
      "outputs": [
        {
          "output_type": "execute_result",
          "data": {
            "text/plain": [
              "OrderedDict([('layer_stack.1.weight',\n",
              "              tensor([[ 0.0070,  0.0247,  0.0319,  ..., -0.0215, -0.0278, -0.0346],\n",
              "                      [-0.0242,  0.0098,  0.0205,  ...,  0.0143, -0.0107,  0.0335],\n",
              "                      [ 0.0207, -0.0158,  0.0026,  ...,  0.0012,  0.0147, -0.0173],\n",
              "                      ...,\n",
              "                      [-0.0331,  0.0016, -0.0218,  ...,  0.0343,  0.0337, -0.0182],\n",
              "                      [ 0.0152,  0.0174, -0.0146,  ...,  0.0155,  0.0211, -0.0336],\n",
              "                      [-0.0049, -0.0267,  0.0193,  ...,  0.0250,  0.0071,  0.0051]])),\n",
              "             ('layer_stack.1.bias',\n",
              "              tensor([-0.0252,  0.0159,  0.0255,  0.0168,  0.0215, -0.0044,  0.0251, -0.0059,\n",
              "                      -0.0185, -0.0072])),\n",
              "             ('layer_stack.2.weight',\n",
              "              tensor([[ 0.0285, -0.0929, -0.0582, -0.0517,  0.0831,  0.1025,  0.1071,  0.0560,\n",
              "                        0.2898,  0.0570],\n",
              "                      [ 0.0639, -0.2657,  0.2207,  0.2873,  0.0826, -0.0813,  0.0308,  0.1119,\n",
              "                       -0.0979, -0.2083],\n",
              "                      [-0.1102,  0.0009, -0.1891,  0.1674,  0.2658,  0.2934, -0.2346, -0.2051,\n",
              "                        0.1481, -0.2049],\n",
              "                      [-0.2097,  0.3110,  0.0794, -0.2527, -0.1283, -0.1694,  0.2310,  0.0226,\n",
              "                        0.1914, -0.2258],\n",
              "                      [-0.0719,  0.0527, -0.1431,  0.0409,  0.2190,  0.2050,  0.0959, -0.0160,\n",
              "                        0.2726, -0.1370],\n",
              "                      [ 0.2295, -0.0862,  0.2605,  0.2548,  0.1252, -0.3000,  0.1296,  0.2128,\n",
              "                        0.0746,  0.2892],\n",
              "                      [ 0.1994, -0.1157,  0.1138,  0.1204, -0.2810,  0.2737, -0.0334, -0.0248,\n",
              "                       -0.1306, -0.2108],\n",
              "                      [ 0.1692,  0.2102, -0.2933,  0.1514, -0.2055, -0.0047,  0.1798,  0.0981,\n",
              "                       -0.1925,  0.2411],\n",
              "                      [-0.2875, -0.2872, -0.1854,  0.1916, -0.2033,  0.1604,  0.1474, -0.2899,\n",
              "                       -0.2402, -0.2740],\n",
              "                      [-0.2214, -0.2349,  0.2927, -0.2216, -0.0848,  0.1393, -0.3059,  0.0904,\n",
              "                       -0.2718,  0.0641]])),\n",
              "             ('layer_stack.2.bias',\n",
              "              tensor([ 0.2107,  0.2986,  0.2891, -0.3017,  0.1101,  0.2895,  0.0372, -0.1562,\n",
              "                      -0.1018,  0.0688]))])"
            ]
          },
          "metadata": {},
          "execution_count": 43
        }
      ]
    },
    {
      "cell_type": "code",
      "source": [
        "# Setup loss, optimizer and evaluation metrics\n",
        "# loss_fn = nn.CrossEntripyLoss()\n",
        "# Optimizer - torch.optim.SGD()\n",
        "# Evaluation metric - accuracy as our eval metric"
      ],
      "metadata": {
        "id": "LKuYpRA12IYv"
      },
      "execution_count": 44,
      "outputs": []
    },
    {
      "cell_type": "code",
      "source": [
        "import requests\n",
        "from pathlib import Path\n",
        "\n",
        "if Path(\"helper_functions.py\").is_file():\n",
        "  print(\"helper_functions.py already exists\")\n",
        "else:\n",
        "  print(\"Downloading helper_functions.py\")\n",
        "  request = requests.get('https://raw.githubusercontent.com/mrdbourke/pytorch-deep-learning/refs/heads/main/helper_functions.py')\n",
        "  with open(\"helper_functions.py\", \"wb\") as f:\n",
        "    f.write(request.content)"
      ],
      "metadata": {
        "colab": {
          "base_uri": "https://localhost:8080/"
        },
        "id": "HmGoNgCf3GkR",
        "outputId": "dc057790-b6a8-4202-ff31-a656c078eced"
      },
      "execution_count": 45,
      "outputs": [
        {
          "output_type": "stream",
          "name": "stdout",
          "text": [
            "Downloading helper_functions.py\n"
          ]
        }
      ]
    },
    {
      "cell_type": "code",
      "source": [
        "from helper_functions import accuracy_fn\n",
        "\n",
        "loss_fn = nn.CrossEntropyLoss()\n",
        "optimizer = torch.optim.SGD(params=model_0.parameters(),\n",
        "                            lr=0.1)"
      ],
      "metadata": {
        "id": "c3gbptxu3vTz"
      },
      "execution_count": 46,
      "outputs": []
    },
    {
      "cell_type": "code",
      "source": [
        "# Creating a function to time our experiments\n",
        "# ML - very experimental\n",
        "# You want to track model's performance (loss and acc values)\n",
        "# How fast it runs"
      ],
      "metadata": {
        "id": "ZtGsA2Oy4Sxm"
      },
      "execution_count": 47,
      "outputs": []
    },
    {
      "cell_type": "code",
      "source": [
        "from timeit import default_timer as timer\n",
        "\n",
        "def print_train_time(start: float,\n",
        "                    end: float,\n",
        "                    device: torch.device = None):\n",
        "  total_time = end - start\n",
        "  print(f\"Train time on {device}: {total_time:.3f} seconds\")\n",
        "  return"
      ],
      "metadata": {
        "id": "DzWzJbAc47TH"
      },
      "execution_count": 48,
      "outputs": []
    },
    {
      "cell_type": "code",
      "source": [
        "start = timer()\n",
        "# code\n",
        "end = timer()\n",
        "print_train_time(start, end, device = \"cpu\")"
      ],
      "metadata": {
        "colab": {
          "base_uri": "https://localhost:8080/"
        },
        "id": "AsK5NykD5aBE",
        "outputId": "3db0868d-4ea7-4fd0-e872-d8c21dfb4f2b"
      },
      "execution_count": 50,
      "outputs": [
        {
          "output_type": "stream",
          "name": "stdout",
          "text": [
            "Train time on cpu: 0.000 seconds\n"
          ]
        }
      ]
    },
    {
      "cell_type": "code",
      "source": [],
      "metadata": {
        "id": "3FVEkTWI5dvf"
      },
      "execution_count": null,
      "outputs": []
    }
  ]
}