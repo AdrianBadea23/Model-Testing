{
  "nbformat": 4,
  "nbformat_minor": 0,
  "metadata": {
    "colab": {
      "provenance": []
    },
    "kernelspec": {
      "name": "python3",
      "display_name": "Python 3"
    },
    "language_info": {
      "name": "python"
    }
  },
  "cells": [
    {
      "cell_type": "code",
      "execution_count": 20,
      "metadata": {
        "id": "VMIDhPSdvmVG"
      },
      "outputs": [],
      "source": [
        "# PyTorch Workflow - end to end workflow"
      ]
    },
    {
      "cell_type": "code",
      "source": [
        "covering = {1: \"data (prepare and load)\",\n",
        "            2: \"build model\",\n",
        "            3: \"fitting model to data(training)\",\n",
        "            4: \"making predictions\",\n",
        "            5: \"save + load\",\n",
        "            6: \"put all together\"}"
      ],
      "metadata": {
        "id": "PfvzmOflwGSS"
      },
      "execution_count": 21,
      "outputs": []
    },
    {
      "cell_type": "code",
      "source": [
        "import torch\n",
        "from torch import nn # pytorch building blocks for nn\n",
        "import matplotlib.pyplot as plt\n",
        "\n",
        "torch.__version__"
      ],
      "metadata": {
        "colab": {
          "base_uri": "https://localhost:8080/",
          "height": 35
        },
        "id": "jfPzTEmAwnIl",
        "outputId": "9a72b786-ae06-40ce-f192-7cfd5f892ce0"
      },
      "execution_count": 22,
      "outputs": [
        {
          "output_type": "execute_result",
          "data": {
            "text/plain": [
              "'2.3.1+cu121'"
            ],
            "application/vnd.google.colaboratory.intrinsic+json": {
              "type": "string"
            }
          },
          "metadata": {},
          "execution_count": 22
        }
      ]
    },
    {
      "cell_type": "code",
      "source": [
        "# Data Preparing and Loading\n",
        "# Data = almost anything(excel spreadsheet, Images, Videos, Audio, DNA, Text)\n",
        "# 1. Get data into numerical representation\n",
        "# 2. Build a model to learn patterns in that numerical representaion\n",
        "\n",
        "# Linear Regression to make a straight line with known parameters"
      ],
      "metadata": {
        "id": "XGQnJ2AOxK1k"
      },
      "execution_count": 23,
      "outputs": []
    },
    {
      "cell_type": "code",
      "source": [
        "weight = 0.7\n",
        "bias = 0.3\n",
        "\n",
        "# Create data\n",
        "\n",
        "start = 0\n",
        "end = 1\n",
        "step = 0.02\n",
        "X = torch.arange(start, end, step).unsqueeze(dim=1)\n",
        "y = weight * X + bias\n",
        "\n",
        "X[:10], y[:10], len(X), len(y)"
      ],
      "metadata": {
        "colab": {
          "base_uri": "https://localhost:8080/"
        },
        "id": "xmHDej1dykTO",
        "outputId": "6b09355c-76cb-49e2-d521-5571b5f38a64"
      },
      "execution_count": 24,
      "outputs": [
        {
          "output_type": "execute_result",
          "data": {
            "text/plain": [
              "(tensor([[0.0000],\n",
              "         [0.0200],\n",
              "         [0.0400],\n",
              "         [0.0600],\n",
              "         [0.0800],\n",
              "         [0.1000],\n",
              "         [0.1200],\n",
              "         [0.1400],\n",
              "         [0.1600],\n",
              "         [0.1800]]),\n",
              " tensor([[0.3000],\n",
              "         [0.3140],\n",
              "         [0.3280],\n",
              "         [0.3420],\n",
              "         [0.3560],\n",
              "         [0.3700],\n",
              "         [0.3840],\n",
              "         [0.3980],\n",
              "         [0.4120],\n",
              "         [0.4260]]),\n",
              " 50,\n",
              " 50)"
            ]
          },
          "metadata": {},
          "execution_count": 24
        }
      ]
    },
    {
      "cell_type": "code",
      "source": [
        "# Splitting data into training and test sets"
      ],
      "metadata": {
        "id": "XgZIseaxzA2O"
      },
      "execution_count": 25,
      "outputs": []
    },
    {
      "cell_type": "code",
      "source": [
        "# Create test/test split\n",
        "\n",
        "train_split = int(0.8 * len(X))\n",
        "X_train, y_train = X[:train_split], y[:train_split]\n",
        "X_test, y_test = X[train_split:], y[train_split:]\n",
        "\n",
        "len(X_train), len(y_train), len(X_test), len(y_test)"
      ],
      "metadata": {
        "colab": {
          "base_uri": "https://localhost:8080/"
        },
        "id": "hWpSnyWNzt-A",
        "outputId": "6ffc9ad2-3c4a-4b07-851c-10e7d7829f49"
      },
      "execution_count": 26,
      "outputs": [
        {
          "output_type": "execute_result",
          "data": {
            "text/plain": [
              "(40, 40, 10, 10)"
            ]
          },
          "metadata": {},
          "execution_count": 26
        }
      ]
    },
    {
      "cell_type": "code",
      "source": [
        "def plot_predictions(train_data = X_train, train_labels = y_train, test_data = X_test, test_labels = y_test, predictions = None):\n",
        "  plt.figure(figsize=(10, 7))\n",
        "  plt.scatter(train_data, train_labels, c=\"b\", s = 4, label=\"Training data\")\n",
        "  plt.scatter(test_data, test_labels, c=\"g\", s = 4, label=\"Testing data\")\n",
        "\n",
        "  if predictions is not None:\n",
        "    plt.scatter(test_data, predictions, c = \"r\", s = 4, label=\"Predictions\")\n",
        "\n",
        "plt.legend(prop={\"size\":14})"
      ],
      "metadata": {
        "colab": {
          "base_uri": "https://localhost:8080/",
          "height": 470
        },
        "id": "Gb6pMelI1E0g",
        "outputId": "8ae6305b-e6aa-4b8d-cf4c-ad2c850fb5b5"
      },
      "execution_count": 45,
      "outputs": [
        {
          "output_type": "stream",
          "name": "stderr",
          "text": [
            "WARNING:matplotlib.legend:No artists with labels found to put in legend.  Note that artists whose label start with an underscore are ignored when legend() is called with no argument.\n"
          ]
        },
        {
          "output_type": "execute_result",
          "data": {
            "text/plain": [
              "<matplotlib.legend.Legend at 0x7edf55f4e0e0>"
            ]
          },
          "metadata": {},
          "execution_count": 45
        },
        {
          "output_type": "display_data",
          "data": {
            "text/plain": [
              "<Figure size 640x480 with 1 Axes>"
            ],
            "image/png": "[encoded data removed]"
          },
          "metadata": {}
        }
      ]
    },
    {
      "cell_type": "code",
      "source": [
        "plot_predictions()"
      ],
      "metadata": {
        "colab": {
          "base_uri": "https://localhost:8080/",
          "height": 599
        },
        "id": "Nm3Opsju1eCd",
        "outputId": "90e7903c-7c3f-4914-a59e-c777b6b2a986"
      },
      "execution_count": 28,
      "outputs": [
        {
          "output_type": "display_data",
          "data": {
            "text/plain": [
              "<Figure size 1000x700 with 1 Axes>"
            ],
            "image/png": "[encoded data removed]"
          },
          "metadata": {}
        }
      ]
    },
    {
      "cell_type": "code",
      "source": [
        "# Building a Pytorch model\n",
        "# What our model does: start with random values weight and bias, look at training data and adjust the random values to get closer to the ideal values(the weight and bias values we used to create the data)\n",
        "# How does it do so: 1. Gradient descent and 2. Backpropagation"
      ],
      "metadata": {
        "id": "wEQofvcd25gt"
      },
      "execution_count": 29,
      "outputs": []
    },
    {
      "cell_type": "code",
      "source": [
        "# Create Linear Regression model class\n",
        "\n",
        "class LinearRegressionModel(nn.Module): #<- almost everything in PyTorch inherits from nn.Module\n",
        "  def __init__(self):\n",
        "    super().__init__()\n",
        "    self.weights = nn.Parameter(torch.randn(1, requires_grad=True, dtype=torch.float))\n",
        "    self.bias = nn.Parameter(torch.randn(1, requires_grad=True, dtype=torch.float))\n",
        "\n",
        "  # Forward method to define the computaion in the model\n",
        "  def forward(self, x: torch.Tensor) -> torch.Tensor: #<- \"x\" is the input data\n",
        "    return self.weights * x + self.bias"
      ],
      "metadata": {
        "id": "PYQ0E_iK4B3T"
      },
      "execution_count": 30,
      "outputs": []
    },
    {
      "cell_type": "code",
      "source": [
        "# PyTorch Model building essentials\n",
        "# torch.nn - contains all the building blocks for computational graphs\n",
        "# torch.nn.Parameter - what params should out model try and learn\n",
        "# torch.nn.Module - the base class for all nn modules, if you subclass it you should overwrite forward()\n",
        "# torch.optim - optimizers in pytorch, help with gradient descent\n",
        "# def forward() - all nn.Module subclasses require you to overwrite forward(), this method defines what happens in the forward computation"
      ],
      "metadata": {
        "id": "dlg7D52uHMNB"
      },
      "execution_count": 31,
      "outputs": []
    },
    {
      "cell_type": "code",
      "source": [
        "# Checking the contents of our pytorch model\n",
        "# Check our model params or check what is inside our model with .parameters()"
      ],
      "metadata": {
        "id": "KNQE35iCIidm"
      },
      "execution_count": 33,
      "outputs": []
    },
    {
      "cell_type": "code",
      "source": [
        "# Create random seed\n",
        "\n",
        "torch.manual_seed(1234)\n",
        "\n",
        "# Create an instance of our model\n",
        "\n",
        "model_0 = LinearRegressionModel()\n",
        "list(model_0.parameters())"
      ],
      "metadata": {
        "colab": {
          "base_uri": "https://localhost:8080/"
        },
        "id": "90EhEJSNi-IR",
        "outputId": "b473f5ce-b78e-4676-d04e-3f89da21c733"
      },
      "execution_count": 36,
      "outputs": [
        {
          "output_type": "execute_result",
          "data": {
            "text/plain": [
              "[Parameter containing:\n",
              " tensor([0.0461], requires_grad=True),\n",
              " Parameter containing:\n",
              " tensor([0.4024], requires_grad=True)]"
            ]
          },
          "metadata": {},
          "execution_count": 36
        }
      ]
    },
    {
      "cell_type": "code",
      "source": [
        "# List named parameters\n",
        "\n",
        "model_0.state_dict()"
      ],
      "metadata": {
        "colab": {
          "base_uri": "https://localhost:8080/"
        },
        "id": "mDY3Ut5QjO9N",
        "outputId": "d8306742-e09c-47f5-ecef-b06ff9f027de"
      },
      "execution_count": 37,
      "outputs": [
        {
          "output_type": "execute_result",
          "data": {
            "text/plain": [
              "OrderedDict([('weights', tensor([0.0461])), ('bias', tensor([0.4024]))])"
            ]
          },
          "metadata": {},
          "execution_count": 37
        }
      ]
    },
    {
      "cell_type": "code",
      "source": [
        "# Making predictions using torch.inference_mode()\n",
        "# To check our models predictive power lets check how it predicts x_test and y_test\n",
        "# When we pass data through out model its goint through the forward method"
      ],
      "metadata": {
        "id": "iDgy2WutkAjW"
      },
      "execution_count": 38,
      "outputs": []
    },
    {
      "cell_type": "code",
      "source": [
        "with torch.inference_mode(): # context manager - inference mode turns off gradient tracking - pytorch is keeping track of less data => faster predictions\n",
        "  y_preds = model_0(X_test)\n",
        "\n",
        "y_preds"
      ],
      "metadata": {
        "colab": {
          "base_uri": "https://localhost:8080/"
        },
        "id": "lpKivAcDlAOH",
        "outputId": "d2b1d69f-653e-4704-f311-f17aa807118f"
      },
      "execution_count": 39,
      "outputs": [
        {
          "output_type": "execute_result",
          "data": {
            "text/plain": [
              "tensor([[0.4393],\n",
              "        [0.4402],\n",
              "        [0.4412],\n",
              "        [0.4421],\n",
              "        [0.4430],\n",
              "        [0.4439],\n",
              "        [0.4448],\n",
              "        [0.4458],\n",
              "        [0.4467],\n",
              "        [0.4476]])"
            ]
          },
          "metadata": {},
          "execution_count": 39
        }
      ]
    },
    {
      "cell_type": "code",
      "source": [
        "plot_predictions(predictions = y_preds)"
      ],
      "metadata": {
        "colab": {
          "base_uri": "https://localhost:8080/",
          "height": 599
        },
        "id": "_Gc22T-mlLgb",
        "outputId": "ed3cf3d3-f925-4a34-a431-1ef41d79fcd0"
      },
      "execution_count": 46,
      "outputs": [
        {
          "output_type": "display_data",
          "data": {
            "text/plain": [
              "<Figure size 1000x700 with 1 Axes>"
            ],
            "image/png": "[encoded data removed]"
          },
          "metadata": {}
        }
      ]
    },
    {
      "cell_type": "code",
      "source": [
        "# Training the model - the whole idea of training is to get the model to move from some random params to some known parameters\n",
        "# Poor representaion -> Better representation\n",
        "# One way to measure how poor or how wrong your models predictions are is to use a loss function\n",
        "# Loss function may also be called cost funtion or criterion in deifferent areas\n",
        "# Things we need to train:\n",
        "# Loss function: A function to mesure how wrong your models predictions are compared with the ideal outputs\n",
        "# Optimizer: Takes into account the loss of a model and adjusts the models parameters eg werights and bias to improve the loss function\n",
        "# For pytorch we need a train loop and a testing loop"
      ],
      "metadata": {
        "id": "g-qxu54hl2X6"
      },
      "execution_count": 47,
      "outputs": []
    },
    {
      "cell_type": "code",
      "source": [
        "# Setup loss function\n",
        "\n",
        "loss_fn = nn.L1Loss()\n",
        "\n",
        "# Setup optimizer\n",
        "\n",
        "optimizer = torch.optim.SGD(params = model_0.parameters(), lr = 0.01) #lr = learning rate"
      ],
      "metadata": {
        "id": "S9iz6csgpM7S"
      },
      "execution_count": 50,
      "outputs": []
    },
    {
      "cell_type": "code",
      "source": [
        "# Building a training plus a testing loop in PyTorch\n",
        "# A couple of things we need in a training loop\n",
        "# 0. Loop through the data\n",
        "# 1. Forward pass (this involves data moving through our models forward function) to make predictions - also called forward propagation\n",
        "# 2. Calculate the loss (compare forward pass predictions to ground truth)\n",
        "# 3. Optimizer zero grad\n",
        "# 4. Loss backward - move backwards through the network to calculate the gradients of each of the parameters of our model with respect to the loss\n",
        "# 5. Optimizer step - use the optimizer to adjust our model's parameters to try and improve the loss (gradient descent)"
      ],
      "metadata": {
        "id": "5EbRTW30qk6p"
      },
      "execution_count": 51,
      "outputs": []
    },
    {
      "cell_type": "code",
      "source": [
        "# An epoch is one loop through the data (hyperparameter because we've set them)\n",
        "epochs = 10\n",
        "\n",
        "# Training\n",
        "\n",
        "for epoch in range(epochs):\n",
        "  # Set the model to training mode\n",
        "  model_0.train() # train mode in PyTorch sets all parameters that require gradients to require gradients\n",
        "  # 1. Forward pass\n",
        "  y_pred = model_0(X_train)\n",
        "\n",
        "  # 2. Calculate loss\n",
        "  loss = loss_fn(y_pred, y_train)\n",
        "\n",
        "  # 3. Optimizer zero grad\n",
        "  optimizer.zero_grad()\n",
        "\n",
        "  # 4. Perform backpropagation on the loss with respect to the parameters of the model\n",
        "  loss.backward()\n",
        "\n",
        "  # 5. Step the optimizer\n",
        "  optimizer.step() # by default how the optimizer changes will accumulate through the loop we have to zero them above so it doesnt accumulate and start fresh each loop\n",
        "  # model_0.eval() # turns off gradient tracking"
      ],
      "metadata": {
        "id": "EAP40VJEuerS"
      },
      "execution_count": 53,
      "outputs": []
    },
    {
      "cell_type": "code",
      "source": [],
      "metadata": {
        "id": "AzqmPFpNxVXc"
      },
      "execution_count": null,
      "outputs": []
    }
  ]
}