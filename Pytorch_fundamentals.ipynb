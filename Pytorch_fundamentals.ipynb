{
  "nbformat": 4,
  "nbformat_minor": 0,
  "metadata": {
    "colab": {
      "provenance": [],
      "gpuType": "T4"
    },
    "kernelspec": {
      "name": "python3",
      "display_name": "Python 3"
    },
    "language_info": {
      "name": "python"
    },
    "accelerator": "GPU"
  },
  "cells": [
    {
      "cell_type": "code",
      "execution_count": 2,
      "metadata": {
        "colab": {
          "base_uri": "https://localhost:8080/"
        },
        "id": "9aAEftn1mxEk",
        "outputId": "9a424d20-86d8-4430-e006-4a1f1b893ee9"
      },
      "outputs": [
        {
          "output_type": "stream",
          "name": "stdout",
          "text": [
            "PyTorch version: 2.3.1+cu121\n",
            "CUDA available: False\n"
          ]
        }
      ],
      "source": [
        "import torch\n",
        "import pandas as pd\n",
        "import numpy as np\n",
        "import matplotlib.pyplot as plt\n",
        "\n",
        "print(\"PyTorch version:\", torch.__version__)\n",
        "print(\"CUDA available:\", torch.cuda.is_available())"
      ]
    },
    {
      "cell_type": "markdown",
      "source": [
        "## Creating Tensors"
      ],
      "metadata": {
        "id": "rkNMeSwNphGN"
      }
    },
    {
      "cell_type": "code",
      "source": [
        "#scalar\n",
        "scalar = torch.tensor(7)\n",
        "scalar"
      ],
      "metadata": {
        "colab": {
          "base_uri": "https://localhost:8080/"
        },
        "id": "WP_pExaOm_Vt",
        "outputId": "07a33caf-9772-4c73-b5bf-721e09615a20"
      },
      "execution_count": 3,
      "outputs": [
        {
          "output_type": "execute_result",
          "data": {
            "text/plain": [
              "tensor(7)"
            ]
          },
          "metadata": {},
          "execution_count": 3
        }
      ]
    },
    {
      "cell_type": "code",
      "source": [
        "scalar.ndim"
      ],
      "metadata": {
        "colab": {
          "base_uri": "https://localhost:8080/"
        },
        "id": "mkP8GQqlnc1l",
        "outputId": "ccb60603-d3cd-4210-feb9-11c62d286b54"
      },
      "execution_count": 4,
      "outputs": [
        {
          "output_type": "execute_result",
          "data": {
            "text/plain": [
              "0"
            ]
          },
          "metadata": {},
          "execution_count": 4
        }
      ]
    },
    {
      "cell_type": "code",
      "source": [
        "scalar.item()"
      ],
      "metadata": {
        "colab": {
          "base_uri": "https://localhost:8080/"
        },
        "id": "TtVJ2-MXqAe2",
        "outputId": "6db938a2-f57b-41f1-cdce-84804e8b47fd"
      },
      "execution_count": 5,
      "outputs": [
        {
          "output_type": "execute_result",
          "data": {
            "text/plain": [
              "7"
            ]
          },
          "metadata": {},
          "execution_count": 5
        }
      ]
    },
    {
      "cell_type": "code",
      "source": [
        "#Vector\n",
        "\n",
        "vector = torch.tensor([7,7])\n",
        "vector"
      ],
      "metadata": {
        "colab": {
          "base_uri": "https://localhost:8080/"
        },
        "id": "RTAjeGNZqWMp",
        "outputId": "eb8e006b-cc6c-4ad6-b97a-713204d131fc"
      },
      "execution_count": 6,
      "outputs": [
        {
          "output_type": "execute_result",
          "data": {
            "text/plain": [
              "tensor([7, 7])"
            ]
          },
          "metadata": {},
          "execution_count": 6
        }
      ]
    },
    {
      "cell_type": "code",
      "source": [
        "vector.ndim"
      ],
      "metadata": {
        "colab": {
          "base_uri": "https://localhost:8080/"
        },
        "id": "C5skPzwFqrXw",
        "outputId": "7fab80d9-5b34-49dc-fe9f-9ccc7fa50a39"
      },
      "execution_count": 7,
      "outputs": [
        {
          "output_type": "execute_result",
          "data": {
            "text/plain": [
              "1"
            ]
          },
          "metadata": {},
          "execution_count": 7
        }
      ]
    },
    {
      "cell_type": "code",
      "source": [
        "vector.shape"
      ],
      "metadata": {
        "colab": {
          "base_uri": "https://localhost:8080/"
        },
        "id": "vuKH6aMGq4jI",
        "outputId": "9799ee97-8b60-48ef-9670-922a34763967"
      },
      "execution_count": 8,
      "outputs": [
        {
          "output_type": "execute_result",
          "data": {
            "text/plain": [
              "torch.Size([2])"
            ]
          },
          "metadata": {},
          "execution_count": 8
        }
      ]
    },
    {
      "cell_type": "code",
      "source": [
        "# Matrix\n",
        "\n",
        "matrix = torch.tensor([[1,2,3],[4,5,6],[7,8,9]])\n",
        "matrix"
      ],
      "metadata": {
        "colab": {
          "base_uri": "https://localhost:8080/"
        },
        "id": "KeI841pTq9py",
        "outputId": "49b68d74-3a81-486d-d7eb-0e195b00a239"
      },
      "execution_count": 9,
      "outputs": [
        {
          "output_type": "execute_result",
          "data": {
            "text/plain": [
              "tensor([[1, 2, 3],\n",
              "        [4, 5, 6],\n",
              "        [7, 8, 9]])"
            ]
          },
          "metadata": {},
          "execution_count": 9
        }
      ]
    },
    {
      "cell_type": "code",
      "source": [
        "matrix.ndim"
      ],
      "metadata": {
        "colab": {
          "base_uri": "https://localhost:8080/"
        },
        "id": "kH0zEmT9rJwV",
        "outputId": "255d906e-6154-4f6e-f140-08716495171b"
      },
      "execution_count": 10,
      "outputs": [
        {
          "output_type": "execute_result",
          "data": {
            "text/plain": [
              "2"
            ]
          },
          "metadata": {},
          "execution_count": 10
        }
      ]
    },
    {
      "cell_type": "code",
      "source": [
        "matrix[0][0]"
      ],
      "metadata": {
        "colab": {
          "base_uri": "https://localhost:8080/"
        },
        "id": "RJdtcX1lrQy9",
        "outputId": "ebf0ca56-b372-4f24-a584-bb505041c064"
      },
      "execution_count": 11,
      "outputs": [
        {
          "output_type": "execute_result",
          "data": {
            "text/plain": [
              "tensor(1)"
            ]
          },
          "metadata": {},
          "execution_count": 11
        }
      ]
    },
    {
      "cell_type": "code",
      "source": [
        "matrix.shape"
      ],
      "metadata": {
        "colab": {
          "base_uri": "https://localhost:8080/"
        },
        "id": "oeP_hxfVrW0A",
        "outputId": "067df9e3-9406-4a80-db7b-44dea6ea64e2"
      },
      "execution_count": 12,
      "outputs": [
        {
          "output_type": "execute_result",
          "data": {
            "text/plain": [
              "torch.Size([3, 3])"
            ]
          },
          "metadata": {},
          "execution_count": 12
        }
      ]
    },
    {
      "cell_type": "code",
      "source": [
        "#Tensor\n",
        "\n",
        "tensor = torch.tensor([[[1,2,3],\n",
        "                        [4,5,6],\n",
        "                        [7,8,9]]])\n",
        "\n",
        "tensor"
      ],
      "metadata": {
        "colab": {
          "base_uri": "https://localhost:8080/"
        },
        "id": "3Khg49bgrZrq",
        "outputId": "0c6556f7-44b6-4100-e4b2-8942a8ed36af"
      },
      "execution_count": 13,
      "outputs": [
        {
          "output_type": "execute_result",
          "data": {
            "text/plain": [
              "tensor([[[1, 2, 3],\n",
              "         [4, 5, 6],\n",
              "         [7, 8, 9]]])"
            ]
          },
          "metadata": {},
          "execution_count": 13
        }
      ]
    },
    {
      "cell_type": "code",
      "source": [
        "tensor.ndim"
      ],
      "metadata": {
        "colab": {
          "base_uri": "https://localhost:8080/"
        },
        "id": "HCSr3emUrxCV",
        "outputId": "483fbb77-c679-448b-9a66-bb8971a8e30e"
      },
      "execution_count": 14,
      "outputs": [
        {
          "output_type": "execute_result",
          "data": {
            "text/plain": [
              "3"
            ]
          },
          "metadata": {},
          "execution_count": 14
        }
      ]
    },
    {
      "cell_type": "code",
      "source": [
        "tensor.shape"
      ],
      "metadata": {
        "colab": {
          "base_uri": "https://localhost:8080/"
        },
        "id": "C4fPUQ31r19U",
        "outputId": "f81f24bf-6f57-429f-8061-dd7a6fcdb27f"
      },
      "execution_count": 15,
      "outputs": [
        {
          "output_type": "execute_result",
          "data": {
            "text/plain": [
              "torch.Size([1, 3, 3])"
            ]
          },
          "metadata": {},
          "execution_count": 15
        }
      ]
    },
    {
      "cell_type": "markdown",
      "source": [
        "### Random Tensors"
      ],
      "metadata": {
        "id": "s1zMwJzECviy"
      }
    },
    {
      "cell_type": "code",
      "source": [
        "# Random tensor of size(3,4)\n",
        "random_tensor = torch.rand(20,1,1,3,4)\n",
        "random_tensor"
      ],
      "metadata": {
        "colab": {
          "base_uri": "https://localhost:8080/"
        },
        "collapsed": true,
        "id": "5M4OYj0Qr3uR",
        "outputId": "d472cb17-8efd-47df-d195-590aae428e21"
      },
      "execution_count": 16,
      "outputs": [
        {
          "output_type": "execute_result",
          "data": {
            "text/plain": [
              "tensor([[[[[3.2733e-01, 6.5991e-01, 5.6621e-02, 2.5663e-01],\n",
              "           [1.0773e-01, 2.8838e-01, 8.5367e-01, 2.4640e-01],\n",
              "           [5.1498e-01, 2.7142e-01, 7.6152e-01, 2.6732e-01]]]],\n",
              "\n",
              "\n",
              "\n",
              "        [[[[9.3396e-01, 9.9460e-01, 9.6000e-01, 8.0475e-01],\n",
              "           [7.7163e-01, 8.7058e-01, 5.4731e-01, 2.1138e-01],\n",
              "           [6.3430e-01, 8.1476e-02, 5.5019e-01, 7.1076e-01]]]],\n",
              "\n",
              "\n",
              "\n",
              "        [[[[6.5281e-02, 6.2817e-01, 7.3534e-01, 3.8061e-01],\n",
              "           [2.2008e-01, 8.4406e-01, 4.7450e-01, 6.9831e-01],\n",
              "           [5.3179e-01, 3.5220e-01, 4.0563e-01, 9.0370e-01]]]],\n",
              "\n",
              "\n",
              "\n",
              "        [[[[3.8068e-01, 5.1055e-01, 1.1108e-01, 8.7610e-02],\n",
              "           [7.4835e-01, 6.5769e-01, 1.6512e-01, 2.3589e-01],\n",
              "           [3.1629e-01, 7.5956e-01, 5.1492e-01, 3.7302e-01]]]],\n",
              "\n",
              "\n",
              "\n",
              "        [[[[4.7777e-01, 2.0367e-01, 3.3861e-01, 3.2224e-01],\n",
              "           [4.3490e-01, 7.9693e-01, 3.3437e-01, 5.9115e-01],\n",
              "           [7.8351e-01, 7.6268e-01, 2.9005e-01, 9.3026e-02]]]],\n",
              "\n",
              "\n",
              "\n",
              "        [[[[8.8156e-01, 9.2986e-01, 4.5933e-01, 7.1932e-02],\n",
              "           [7.0054e-01, 6.9589e-01, 6.2663e-01, 9.3291e-01],\n",
              "           [6.3800e-01, 2.9800e-01, 1.2292e-02, 6.3824e-01]]]],\n",
              "\n",
              "\n",
              "\n",
              "        [[[[9.7394e-01, 1.3485e-01, 4.2799e-01, 1.0641e-01],\n",
              "           [7.4842e-01, 4.1602e-01, 8.8313e-01, 7.2305e-02],\n",
              "           [2.9764e-01, 8.9855e-01, 6.7736e-01, 1.5632e-01]]]],\n",
              "\n",
              "\n",
              "\n",
              "        [[[[6.5497e-01, 9.9444e-01, 8.5531e-01, 8.2479e-01],\n",
              "           [1.1932e-01, 2.0227e-01, 9.6957e-01, 9.7145e-01],\n",
              "           [8.5405e-01, 8.7402e-01, 4.3439e-01, 7.1242e-01]]]],\n",
              "\n",
              "\n",
              "\n",
              "        [[[[5.9735e-01, 6.6937e-03, 1.4454e-01, 2.7833e-01],\n",
              "           [9.6468e-01, 5.9734e-01, 4.8954e-01, 3.2802e-01],\n",
              "           [5.4214e-01, 7.0884e-01, 2.9214e-01, 4.0642e-01]]]],\n",
              "\n",
              "\n",
              "\n",
              "        [[[[1.2757e-01, 1.2802e-01, 9.5383e-01, 2.7975e-01],\n",
              "           [4.1300e-01, 6.3307e-01, 2.7413e-01, 4.0268e-03],\n",
              "           [2.9034e-01, 4.6544e-01, 8.6544e-01, 1.6504e-01]]]],\n",
              "\n",
              "\n",
              "\n",
              "        [[[[3.8658e-03, 8.6195e-01, 6.7802e-01, 9.9535e-01],\n",
              "           [5.7653e-01, 7.5696e-01, 4.9165e-01, 8.0374e-01],\n",
              "           [1.7018e-01, 5.8748e-01, 3.4217e-01, 3.0785e-01]]]],\n",
              "\n",
              "\n",
              "\n",
              "        [[[[1.0967e-01, 2.0557e-01, 8.2879e-01, 8.3886e-01],\n",
              "           [4.0105e-01, 1.8862e-01, 5.8031e-01, 2.3501e-01],\n",
              "           [9.2048e-01, 5.8265e-01, 5.1935e-01, 3.7796e-01]]]],\n",
              "\n",
              "\n",
              "\n",
              "        [[[[2.3332e-01, 5.3087e-01, 5.3264e-01, 6.2157e-01],\n",
              "           [5.4404e-01, 2.7244e-01, 9.0234e-01, 9.4363e-01],\n",
              "           [3.7884e-01, 3.4615e-01, 6.7590e-01, 3.0280e-01]]]],\n",
              "\n",
              "\n",
              "\n",
              "        [[[[1.2094e-01, 1.2746e-03, 9.0273e-01, 2.2592e-01],\n",
              "           [9.7347e-01, 3.7089e-01, 1.7298e-01, 6.0540e-01],\n",
              "           [8.0934e-01, 5.7378e-01, 5.0543e-01, 6.2771e-02]]]],\n",
              "\n",
              "\n",
              "\n",
              "        [[[[4.7685e-01, 8.6234e-01, 3.4844e-01, 7.3111e-01],\n",
              "           [6.2196e-01, 5.0432e-01, 8.9349e-01, 5.0545e-01],\n",
              "           [3.0984e-01, 3.5113e-01, 8.5358e-01, 1.9476e-01]]]],\n",
              "\n",
              "\n",
              "\n",
              "        [[[[5.9215e-01, 2.2532e-01, 8.9587e-01, 7.4869e-04],\n",
              "           [1.5428e-01, 5.3083e-01, 8.6949e-01, 6.5004e-01],\n",
              "           [4.0141e-01, 1.7109e-01, 5.8915e-01, 8.6140e-02]]]],\n",
              "\n",
              "\n",
              "\n",
              "        [[[[6.2451e-01, 6.0479e-01, 9.2186e-01, 1.6936e-01],\n",
              "           [5.0768e-01, 1.6604e-01, 1.0284e-01, 8.9647e-01],\n",
              "           [9.6003e-01, 1.3854e-01, 1.0292e-01, 2.4163e-01]]]],\n",
              "\n",
              "\n",
              "\n",
              "        [[[[9.9136e-01, 8.0091e-01, 8.8244e-01, 2.8041e-01],\n",
              "           [9.4057e-01, 4.9615e-01, 7.2756e-01, 9.6185e-01],\n",
              "           [2.3372e-01, 2.1300e-01, 1.5879e-01, 9.0591e-01]]]],\n",
              "\n",
              "\n",
              "\n",
              "        [[[[7.2932e-01, 4.7303e-01, 8.4234e-01, 2.2374e-01],\n",
              "           [3.7545e-04, 3.9776e-02, 4.1224e-01, 3.6630e-01],\n",
              "           [1.9288e-01, 2.1986e-01, 8.8320e-01, 8.9309e-01]]]],\n",
              "\n",
              "\n",
              "\n",
              "        [[[[9.5734e-01, 3.9997e-01, 7.1345e-02, 7.7042e-01],\n",
              "           [9.1304e-01, 8.4101e-01, 9.0633e-01, 2.8581e-01],\n",
              "           [9.8030e-02, 1.0190e-01, 1.1677e-01, 5.4539e-01]]]]])"
            ]
          },
          "metadata": {},
          "execution_count": 16
        }
      ]
    },
    {
      "cell_type": "code",
      "source": [
        "random_image_size_tensor = torch.rand(size=(224,224,3))\n",
        "random_image_size_tensor.shape, random_image_size_tensor.ndim"
      ],
      "metadata": {
        "colab": {
          "base_uri": "https://localhost:8080/"
        },
        "id": "idzahpIQDQ4i",
        "outputId": "3e179e1b-429a-4d86-da8e-745ebdaebab9"
      },
      "execution_count": 17,
      "outputs": [
        {
          "output_type": "execute_result",
          "data": {
            "text/plain": [
              "(torch.Size([224, 224, 3]), 3)"
            ]
          },
          "metadata": {},
          "execution_count": 17
        }
      ]
    },
    {
      "cell_type": "code",
      "source": [
        "### Zeros and ones - Tensors\n",
        "\n",
        "zero = torch.zeros(size=(3,4))\n",
        "zero"
      ],
      "metadata": {
        "colab": {
          "base_uri": "https://localhost:8080/"
        },
        "id": "qCICjDFUDhjX",
        "outputId": "40e3c058-43f1-41e6-a0b5-2ad116128776"
      },
      "execution_count": 18,
      "outputs": [
        {
          "output_type": "execute_result",
          "data": {
            "text/plain": [
              "tensor([[0., 0., 0., 0.],\n",
              "        [0., 0., 0., 0.],\n",
              "        [0., 0., 0., 0.]])"
            ]
          },
          "metadata": {},
          "execution_count": 18
        }
      ]
    },
    {
      "cell_type": "code",
      "source": [
        "### Create tensor of ones\n",
        "ones = torch.ones(size=(3,4))\n",
        "ones"
      ],
      "metadata": {
        "colab": {
          "base_uri": "https://localhost:8080/"
        },
        "id": "kjNLKr8HExcj",
        "outputId": "79a971ad-d4e4-4288-daf4-ed01b98e1fd8"
      },
      "execution_count": 19,
      "outputs": [
        {
          "output_type": "execute_result",
          "data": {
            "text/plain": [
              "tensor([[1., 1., 1., 1.],\n",
              "        [1., 1., 1., 1.],\n",
              "        [1., 1., 1., 1.]])"
            ]
          },
          "metadata": {},
          "execution_count": 19
        }
      ]
    },
    {
      "cell_type": "code",
      "source": [
        "ones.dtype"
      ],
      "metadata": {
        "colab": {
          "base_uri": "https://localhost:8080/"
        },
        "id": "vwWcN_QnE-0G",
        "outputId": "79d5801d-c360-464f-f025-af3c1fffa6b7"
      },
      "execution_count": 20,
      "outputs": [
        {
          "output_type": "execute_result",
          "data": {
            "text/plain": [
              "torch.float32"
            ]
          },
          "metadata": {},
          "execution_count": 20
        }
      ]
    },
    {
      "cell_type": "code",
      "source": [
        "### Create a range of tensors\n",
        "\n",
        "some_tensor = torch.arange(start=0, end=11, step=3)\n",
        "some_tensor"
      ],
      "metadata": {
        "colab": {
          "base_uri": "https://localhost:8080/"
        },
        "id": "N_EJPQx_FA1M",
        "outputId": "c97cb3d2-8120-43a3-c3d2-b85932bf7190"
      },
      "execution_count": 21,
      "outputs": [
        {
          "output_type": "execute_result",
          "data": {
            "text/plain": [
              "tensor([0, 3, 6, 9])"
            ]
          },
          "metadata": {},
          "execution_count": 21
        }
      ]
    },
    {
      "cell_type": "code",
      "source": [
        "# Creating tensors like\n",
        "\n",
        "tensor_like = torch.zeros_like(input=some_tensor)\n",
        "tensor_like"
      ],
      "metadata": {
        "colab": {
          "base_uri": "https://localhost:8080/"
        },
        "id": "sYoAkdSTFZFj",
        "outputId": "21bc1731-e98c-4f71-bc5c-7573acecc801"
      },
      "execution_count": 22,
      "outputs": [
        {
          "output_type": "execute_result",
          "data": {
            "text/plain": [
              "tensor([0, 0, 0, 0])"
            ]
          },
          "metadata": {},
          "execution_count": 22
        }
      ]
    },
    {
      "cell_type": "code",
      "source": [
        "# Tensor datatypes\n",
        "\n",
        "float_32_tensor = torch.tensor([3.0, 9.0, 6.0], dtype = None, device = None, requires_grad = False)\n",
        "\n",
        "float_32_tensor.dtype"
      ],
      "metadata": {
        "colab": {
          "base_uri": "https://localhost:8080/"
        },
        "id": "llp-8PZnGEPr",
        "outputId": "cd460863-b2d1-4e6d-ec79-f8cef3d19940"
      },
      "execution_count": 23,
      "outputs": [
        {
          "output_type": "execute_result",
          "data": {
            "text/plain": [
              "torch.float32"
            ]
          },
          "metadata": {},
          "execution_count": 23
        }
      ]
    },
    {
      "cell_type": "code",
      "source": [
        "float_32_tensor.dtype"
      ],
      "metadata": {
        "colab": {
          "base_uri": "https://localhost:8080/"
        },
        "id": "2Uies_hzGrWB",
        "outputId": "2392d5df-27f4-4dca-8ce9-f668f2d1ffdd"
      },
      "execution_count": 24,
      "outputs": [
        {
          "output_type": "execute_result",
          "data": {
            "text/plain": [
              "torch.float32"
            ]
          },
          "metadata": {},
          "execution_count": 24
        }
      ]
    },
    {
      "cell_type": "code",
      "source": [
        "float_16_tensor = float_32_tensor.type(torch.float16)\n",
        "float_16_tensor"
      ],
      "metadata": {
        "colab": {
          "base_uri": "https://localhost:8080/"
        },
        "id": "VMzSV5rLGvaQ",
        "outputId": "2ff050de-c406-45d2-fdae-f07207613077"
      },
      "execution_count": 25,
      "outputs": [
        {
          "output_type": "execute_result",
          "data": {
            "text/plain": [
              "tensor([3., 9., 6.], dtype=torch.float16)"
            ]
          },
          "metadata": {},
          "execution_count": 25
        }
      ]
    },
    {
      "cell_type": "code",
      "source": [
        "float_16_tensor * float_32_tensor"
      ],
      "metadata": {
        "colab": {
          "base_uri": "https://localhost:8080/"
        },
        "id": "VyE-KbwbIVBY",
        "outputId": "6ad94e84-9bef-47d9-bc8b-ba3b93d77fa4"
      },
      "execution_count": 26,
      "outputs": [
        {
          "output_type": "execute_result",
          "data": {
            "text/plain": [
              "tensor([ 9., 81., 36.])"
            ]
          },
          "metadata": {},
          "execution_count": 26
        }
      ]
    },
    {
      "cell_type": "code",
      "source": [
        "print(f\"{float_16_tensor.dtype}\\n{float_16_tensor.shape}\\n{float_16_tensor.device}\")"
      ],
      "metadata": {
        "colab": {
          "base_uri": "https://localhost:8080/"
        },
        "id": "_YKzzyTDIm3N",
        "outputId": "b98f56f8-1518-4c00-c0bd-bd64b1f9da9e"
      },
      "execution_count": 27,
      "outputs": [
        {
          "output_type": "stream",
          "name": "stdout",
          "text": [
            "torch.float16\n",
            "torch.Size([3])\n",
            "cpu\n"
          ]
        }
      ]
    },
    {
      "cell_type": "code",
      "source": [
        "float_64_tensor = torch.tensor([3.0, 9.0, 6.0], dtype = torch.float64, device = 'cpu', requires_grad = False)\n",
        "\n",
        "float_64_tensor.dtype"
      ],
      "metadata": {
        "colab": {
          "base_uri": "https://localhost:8080/"
        },
        "id": "30G66ghzLhCL",
        "outputId": "1965264c-aa18-42ee-ae03-9c15afd0ef24"
      },
      "execution_count": 28,
      "outputs": [
        {
          "output_type": "execute_result",
          "data": {
            "text/plain": [
              "torch.float64"
            ]
          },
          "metadata": {},
          "execution_count": 28
        }
      ]
    },
    {
      "cell_type": "markdown",
      "source": [
        "# Tensor operations:\n",
        "- addition\n",
        "- subtraction\n",
        "- multiplication (element wise)\n",
        "- Division\n",
        "- matrix multiplication"
      ],
      "metadata": {
        "id": "heEPG7WFNDPK"
      }
    },
    {
      "cell_type": "code",
      "source": [
        "tensor = torch.tensor([2,4,6])\n",
        "tensor + 10"
      ],
      "metadata": {
        "colab": {
          "base_uri": "https://localhost:8080/"
        },
        "id": "7uLEXGS1Mdvj",
        "outputId": "7d6fa62e-3966-45e1-c0f5-640c9c1db097"
      },
      "execution_count": 29,
      "outputs": [
        {
          "output_type": "execute_result",
          "data": {
            "text/plain": [
              "tensor([12, 14, 16])"
            ]
          },
          "metadata": {},
          "execution_count": 29
        }
      ]
    },
    {
      "cell_type": "code",
      "source": [
        "tensor = tensor * 10\n",
        "tensor"
      ],
      "metadata": {
        "colab": {
          "base_uri": "https://localhost:8080/"
        },
        "id": "gvfqzL9JNVBT",
        "outputId": "b47c6d04-a0d0-41c3-cb58-fb3c004477fa"
      },
      "execution_count": 30,
      "outputs": [
        {
          "output_type": "execute_result",
          "data": {
            "text/plain": [
              "tensor([20, 40, 60])"
            ]
          },
          "metadata": {},
          "execution_count": 30
        }
      ]
    },
    {
      "cell_type": "code",
      "source": [
        "tensor = tensor / 10\n",
        "tensor"
      ],
      "metadata": {
        "colab": {
          "base_uri": "https://localhost:8080/"
        },
        "id": "3O-JXhp_NXs2",
        "outputId": "d294c2a7-f413-42be-b46c-1e6fbf599eba"
      },
      "execution_count": 31,
      "outputs": [
        {
          "output_type": "execute_result",
          "data": {
            "text/plain": [
              "tensor([2., 4., 6.])"
            ]
          },
          "metadata": {},
          "execution_count": 31
        }
      ]
    },
    {
      "cell_type": "code",
      "source": [
        "tensor.mul(10)"
      ],
      "metadata": {
        "colab": {
          "base_uri": "https://localhost:8080/"
        },
        "id": "KKTim8z5NbcP",
        "outputId": "f2e490f9-5a52-4a65-f433-66c75fda2631"
      },
      "execution_count": 32,
      "outputs": [
        {
          "output_type": "execute_result",
          "data": {
            "text/plain": [
              "tensor([20., 40., 60.])"
            ]
          },
          "metadata": {},
          "execution_count": 32
        }
      ]
    },
    {
      "cell_type": "code",
      "source": [
        "tensor * tensor"
      ],
      "metadata": {
        "colab": {
          "base_uri": "https://localhost:8080/"
        },
        "id": "DPzpYznNNqZh",
        "outputId": "2fa12c98-56e3-4960-e100-fb2fc7c1a225"
      },
      "execution_count": 33,
      "outputs": [
        {
          "output_type": "execute_result",
          "data": {
            "text/plain": [
              "tensor([ 4., 16., 36.])"
            ]
          },
          "metadata": {},
          "execution_count": 33
        }
      ]
    },
    {
      "cell_type": "code",
      "source": [
        "%%time\n",
        "torch.matmul(tensor, tensor)"
      ],
      "metadata": {
        "colab": {
          "base_uri": "https://localhost:8080/"
        },
        "id": "QPqKulWAOwaQ",
        "outputId": "2d247b61-0dd5-4b34-850a-aed6cfaf1dd7"
      },
      "execution_count": 34,
      "outputs": [
        {
          "output_type": "stream",
          "name": "stdout",
          "text": [
            "CPU times: user 578 µs, sys: 106 µs, total: 684 µs\n",
            "Wall time: 9.37 ms\n"
          ]
        },
        {
          "output_type": "execute_result",
          "data": {
            "text/plain": [
              "tensor(56.)"
            ]
          },
          "metadata": {},
          "execution_count": 34
        }
      ]
    },
    {
      "cell_type": "code",
      "source": [
        "# Shapes for matix multiplication\n",
        "\n",
        "tensor_A = torch.tensor([[1,2],\n",
        "                        [3,4],\n",
        "                        [5,6]])\n",
        "\n",
        "tensor_B = torch.tensor([[7,10],\n",
        "                        [8,11],\n",
        "                        [9,12]])\n",
        "\n",
        "torch.mm(tensor_A, tensor_B.T)"
      ],
      "metadata": {
        "colab": {
          "base_uri": "https://localhost:8080/"
        },
        "id": "tJO2vIcvO92M",
        "outputId": "37a2d755-28b3-48bf-deb3-d55df241b2fb"
      },
      "execution_count": 35,
      "outputs": [
        {
          "output_type": "execute_result",
          "data": {
            "text/plain": [
              "tensor([[ 27,  30,  33],\n",
              "        [ 61,  68,  75],\n",
              "        [ 95, 106, 117]])"
            ]
          },
          "metadata": {},
          "execution_count": 35
        }
      ]
    },
    {
      "cell_type": "code",
      "source": [
        "## Find the min, max, sum etc(tensor aggregation)\n",
        "\n",
        "x = torch.arange(0,100,10)\n",
        "x"
      ],
      "metadata": {
        "id": "SjdAXqonSc1X",
        "colab": {
          "base_uri": "https://localhost:8080/"
        },
        "outputId": "8b392704-3feb-4609-84c2-9d3274b0367b"
      },
      "execution_count": 36,
      "outputs": [
        {
          "output_type": "execute_result",
          "data": {
            "text/plain": [
              "tensor([ 0, 10, 20, 30, 40, 50, 60, 70, 80, 90])"
            ]
          },
          "metadata": {},
          "execution_count": 36
        }
      ]
    },
    {
      "cell_type": "code",
      "source": [
        "torch.min(x), x.min()"
      ],
      "metadata": {
        "colab": {
          "base_uri": "https://localhost:8080/"
        },
        "id": "4H4t751eVEEg",
        "outputId": "674e65a6-5af4-4e8a-f4d0-c676d19d5dd6"
      },
      "execution_count": 37,
      "outputs": [
        {
          "output_type": "execute_result",
          "data": {
            "text/plain": [
              "(tensor(0), tensor(0))"
            ]
          },
          "metadata": {},
          "execution_count": 37
        }
      ]
    },
    {
      "cell_type": "code",
      "source": [
        "torch.max(x), x.max()"
      ],
      "metadata": {
        "colab": {
          "base_uri": "https://localhost:8080/"
        },
        "id": "A4QAgYSqVO26",
        "outputId": "4e42afaf-d259-406b-eed2-1c071d896521"
      },
      "execution_count": 38,
      "outputs": [
        {
          "output_type": "execute_result",
          "data": {
            "text/plain": [
              "(tensor(90), tensor(90))"
            ]
          },
          "metadata": {},
          "execution_count": 38
        }
      ]
    },
    {
      "cell_type": "code",
      "source": [
        "torch.mean(x.type(torch.float32)), x.type(torch.float32).mean()  # .mean needs float32"
      ],
      "metadata": {
        "colab": {
          "base_uri": "https://localhost:8080/"
        },
        "id": "e2q81vc6VRf-",
        "outputId": "8fca6c5f-60cc-4231-f85f-62e225d55f63"
      },
      "execution_count": 39,
      "outputs": [
        {
          "output_type": "execute_result",
          "data": {
            "text/plain": [
              "(tensor(45.), tensor(45.))"
            ]
          },
          "metadata": {},
          "execution_count": 39
        }
      ]
    },
    {
      "cell_type": "code",
      "source": [
        "torch.sum(x), x.sum()"
      ],
      "metadata": {
        "colab": {
          "base_uri": "https://localhost:8080/"
        },
        "id": "1AaOD4VgVaZQ",
        "outputId": "1480b7e4-5115-4f2b-9c02-9438729145ca"
      },
      "execution_count": 40,
      "outputs": [
        {
          "output_type": "execute_result",
          "data": {
            "text/plain": [
              "(tensor(450), tensor(450))"
            ]
          },
          "metadata": {},
          "execution_count": 40
        }
      ]
    },
    {
      "cell_type": "code",
      "source": [
        "torch.argmin(x), x.argmin()"
      ],
      "metadata": {
        "colab": {
          "base_uri": "https://localhost:8080/"
        },
        "id": "mMQykxiOWGVM",
        "outputId": "d3bd2eae-f498-4859-890b-b1e8afc28d63"
      },
      "execution_count": 41,
      "outputs": [
        {
          "output_type": "execute_result",
          "data": {
            "text/plain": [
              "(tensor(0), tensor(0))"
            ]
          },
          "metadata": {},
          "execution_count": 41
        }
      ]
    },
    {
      "cell_type": "code",
      "source": [
        "torch.argmax(x), x.argmax()"
      ],
      "metadata": {
        "colab": {
          "base_uri": "https://localhost:8080/"
        },
        "id": "7OuK9HgYWVL1",
        "outputId": "e0a4e708-9826-40c8-c6dd-127c6bb82394"
      },
      "execution_count": 42,
      "outputs": [
        {
          "output_type": "execute_result",
          "data": {
            "text/plain": [
              "(tensor(9), tensor(9))"
            ]
          },
          "metadata": {},
          "execution_count": 42
        }
      ]
    },
    {
      "cell_type": "code",
      "source": [
        "x[0], x[9]"
      ],
      "metadata": {
        "colab": {
          "base_uri": "https://localhost:8080/"
        },
        "id": "DIXbri1VWWr8",
        "outputId": "c38cfa91-ee6e-4d45-9265-4d4f8068e000"
      },
      "execution_count": 43,
      "outputs": [
        {
          "output_type": "execute_result",
          "data": {
            "text/plain": [
              "(tensor(0), tensor(90))"
            ]
          },
          "metadata": {},
          "execution_count": 43
        }
      ]
    },
    {
      "cell_type": "code",
      "source": [
        "# Reshaping stacking squeezing and unsqueezing tensors\n",
        "\n",
        "# Reshape - reshape the input to a defined shape\n",
        "# View - Return a view of an input tensor of a certain shape but keep the same memory as the original tensor\n",
        "# Stacking - combine multiple tensors on top of each other(vstack) or side by side(hstack)\n",
        "# Squeeze - removes all 1 dimensions from tensor\n",
        "# Unsqueeze - add 1 dimension to tensor\n",
        "# Permute - return the view of the input with dimensions permuted in a cetain way\n",
        "\n",
        "import torch\n",
        "x = torch.arange(1., 10.)\n",
        "x, x.shape"
      ],
      "metadata": {
        "colab": {
          "base_uri": "https://localhost:8080/"
        },
        "id": "XpGT_yNsWmp-",
        "outputId": "e99ada33-7c14-4445-ec1e-3cc06e239ce9"
      },
      "execution_count": 73,
      "outputs": [
        {
          "output_type": "execute_result",
          "data": {
            "text/plain": [
              "(tensor([1., 2., 3., 4., 5., 6., 7., 8., 9.]), torch.Size([9]))"
            ]
          },
          "metadata": {},
          "execution_count": 73
        }
      ]
    },
    {
      "cell_type": "code",
      "source": [
        "x_reshaped = x.reshape(1,9)\n",
        "x_reshaped, x_reshaped.shape"
      ],
      "metadata": {
        "colab": {
          "base_uri": "https://localhost:8080/"
        },
        "id": "E1kvpoWQYjDd",
        "outputId": "e7f1aa5d-9408-445a-cc00-257da9753706"
      },
      "execution_count": 74,
      "outputs": [
        {
          "output_type": "execute_result",
          "data": {
            "text/plain": [
              "(tensor([[1., 2., 3., 4., 5., 6., 7., 8., 9.]]), torch.Size([1, 9]))"
            ]
          },
          "metadata": {},
          "execution_count": 74
        }
      ]
    },
    {
      "cell_type": "code",
      "source": [
        "# Change the view\n",
        "\n",
        "z = x.view(2,5)\n",
        "z, z.shape"
      ],
      "metadata": {
        "colab": {
          "base_uri": "https://localhost:8080/"
        },
        "id": "mhdZfY0fYvTW",
        "outputId": "89957edc-9100-475a-ad89-16147b2feb6d"
      },
      "execution_count": 51,
      "outputs": [
        {
          "output_type": "execute_result",
          "data": {
            "text/plain": [
              "(tensor([[ 1.,  2.,  3.,  4.,  5.],\n",
              "         [ 6.,  7.,  8.,  9., 10.]]),\n",
              " torch.Size([2, 5]))"
            ]
          },
          "metadata": {},
          "execution_count": 51
        }
      ]
    },
    {
      "cell_type": "code",
      "source": [
        "# Changing z changes x - view shares memeory z and x\n",
        "\n",
        "z[:, 0] = 5\n",
        "z, x"
      ],
      "metadata": {
        "colab": {
          "base_uri": "https://localhost:8080/"
        },
        "id": "3OktO7eTZhky",
        "outputId": "5d965352-b650-49c7-8896-6d54d7962636"
      },
      "execution_count": 52,
      "outputs": [
        {
          "output_type": "execute_result",
          "data": {
            "text/plain": [
              "(tensor([[ 5.,  2.,  3.,  4.,  5.],\n",
              "         [ 5.,  7.,  8.,  9., 10.]]),\n",
              " tensor([ 5.,  2.,  3.,  4.,  5.,  5.,  7.,  8.,  9., 10.]))"
            ]
          },
          "metadata": {},
          "execution_count": 52
        }
      ]
    },
    {
      "cell_type": "code",
      "source": [
        "# Stack tensors on top of each other\n",
        "\n",
        "x_stacked = torch.stack([x,x,x,x], dim=1)\n",
        "x_stacked"
      ],
      "metadata": {
        "colab": {
          "base_uri": "https://localhost:8080/"
        },
        "id": "N_4Vy9DNZs5d",
        "outputId": "ac09550d-4ab7-474d-b758-c32b46879ae8"
      },
      "execution_count": 58,
      "outputs": [
        {
          "output_type": "execute_result",
          "data": {
            "text/plain": [
              "tensor([[ 5.,  5.,  5.,  5.],\n",
              "        [ 2.,  2.,  2.,  2.],\n",
              "        [ 3.,  3.,  3.,  3.],\n",
              "        [ 4.,  4.,  4.,  4.],\n",
              "        [ 5.,  5.,  5.,  5.],\n",
              "        [ 5.,  5.,  5.,  5.],\n",
              "        [ 7.,  7.,  7.,  7.],\n",
              "        [ 8.,  8.,  8.,  8.],\n",
              "        [ 9.,  9.,  9.,  9.],\n",
              "        [10., 10., 10., 10.]])"
            ]
          },
          "metadata": {},
          "execution_count": 58
        }
      ]
    },
    {
      "cell_type": "code",
      "source": [
        "x_reshaped.squeeze(), x_reshaped.squeeze().shape # removes all 1 dimensions"
      ],
      "metadata": {
        "colab": {
          "base_uri": "https://localhost:8080/"
        },
        "id": "51FRPVpgaFg1",
        "outputId": "8ab038c4-f821-430d-9d34-8e21ea4ac4a7"
      },
      "execution_count": 86,
      "outputs": [
        {
          "output_type": "execute_result",
          "data": {
            "text/plain": [
              "(tensor([1., 2., 3., 4., 5., 6., 7., 8., 9.]), torch.Size([9]))"
            ]
          },
          "metadata": {},
          "execution_count": 86
        }
      ]
    },
    {
      "cell_type": "code",
      "source": [
        "x_reshaped.unsqueeze(dim=1), x_reshaped.unsqueeze(dim=1).shape # adds a 1 dimension to a target tensor at a specific dim"
      ],
      "metadata": {
        "colab": {
          "base_uri": "https://localhost:8080/"
        },
        "id": "TigSwaZfao07",
        "outputId": "57afbcc5-56c0-4c33-9abc-b15ea6f86fa6"
      },
      "execution_count": 89,
      "outputs": [
        {
          "output_type": "execute_result",
          "data": {
            "text/plain": [
              "(tensor([[[1., 2., 3., 4., 5., 6., 7., 8., 9.]]]), torch.Size([1, 1, 9]))"
            ]
          },
          "metadata": {},
          "execution_count": 89
        }
      ]
    },
    {
      "cell_type": "code",
      "source": [
        "# torch.permute - rearranges the dimensions of a tensor in a specified order\n",
        "\n",
        "x_original = torch.rand(size=(224,224,3))\n",
        "\n",
        "x_permuted = x_original.permute(2,0,1)\n",
        "\n",
        "x_original.shape, x_permuted.shape"
      ],
      "metadata": {
        "colab": {
          "base_uri": "https://localhost:8080/"
        },
        "id": "Za4imE9Qayji",
        "outputId": "f9146c50-ec69-40fe-d32c-fcb44fd62ea9"
      },
      "execution_count": 90,
      "outputs": [
        {
          "output_type": "execute_result",
          "data": {
            "text/plain": [
              "(torch.Size([224, 224, 3]), torch.Size([3, 224, 224]))"
            ]
          },
          "metadata": {},
          "execution_count": 90
        }
      ]
    },
    {
      "cell_type": "code",
      "source": [
        "## Indexing selecting data from tensors\n",
        "\n",
        "import torch\n",
        "\n",
        "x = torch.arange(1,11).reshape(1,2,5)\n",
        "x, x.shape"
      ],
      "metadata": {
        "colab": {
          "base_uri": "https://localhost:8080/"
        },
        "id": "eD8Jv1o8dm3o",
        "outputId": "13648b55-e1c3-4a5f-a516-d03b17c2390a"
      },
      "execution_count": 93,
      "outputs": [
        {
          "output_type": "execute_result",
          "data": {
            "text/plain": [
              "(tensor([[[ 1,  2,  3,  4,  5],\n",
              "          [ 6,  7,  8,  9, 10]]]),\n",
              " torch.Size([1, 2, 5]))"
            ]
          },
          "metadata": {},
          "execution_count": 93
        }
      ]
    },
    {
      "cell_type": "code",
      "source": [
        "# Index on the tensor\n",
        "\n",
        "x[0][0][4]"
      ],
      "metadata": {
        "colab": {
          "base_uri": "https://localhost:8080/"
        },
        "id": "qUrkBQlWe8jY",
        "outputId": "0ec0d8ed-58c9-400d-b7c7-f1a890fba6aa"
      },
      "execution_count": 100,
      "outputs": [
        {
          "output_type": "execute_result",
          "data": {
            "text/plain": [
              "tensor(5)"
            ]
          },
          "metadata": {},
          "execution_count": 100
        }
      ]
    },
    {
      "cell_type": "code",
      "source": [
        "# Use ':' to select all of a target dimension\n",
        "\n",
        "x[:, 0]"
      ],
      "metadata": {
        "colab": {
          "base_uri": "https://localhost:8080/"
        },
        "id": "ZHSClHpafKDx",
        "outputId": "5d4c5311-8d8c-4086-e87a-8104d43b400e"
      },
      "execution_count": 101,
      "outputs": [
        {
          "output_type": "execute_result",
          "data": {
            "text/plain": [
              "tensor([[1, 2, 3, 4, 5]])"
            ]
          },
          "metadata": {},
          "execution_count": 101
        }
      ]
    },
    {
      "cell_type": "code",
      "source": [
        "x[:,:,1]"
      ],
      "metadata": {
        "colab": {
          "base_uri": "https://localhost:8080/"
        },
        "id": "ulcXDuicf8Mc",
        "outputId": "ea79546c-60c4-4237-a0fc-8421d0121e68"
      },
      "execution_count": 102,
      "outputs": [
        {
          "output_type": "execute_result",
          "data": {
            "text/plain": [
              "tensor([[2, 7]])"
            ]
          },
          "metadata": {},
          "execution_count": 102
        }
      ]
    },
    {
      "cell_type": "code",
      "source": [
        "x[:, 1, 1]"
      ],
      "metadata": {
        "colab": {
          "base_uri": "https://localhost:8080/"
        },
        "id": "6bajIJVTgBL0",
        "outputId": "f94b62ea-a8dd-4d85-bb98-9cebdb506e00"
      },
      "execution_count": 103,
      "outputs": [
        {
          "output_type": "execute_result",
          "data": {
            "text/plain": [
              "tensor([7])"
            ]
          },
          "metadata": {},
          "execution_count": 103
        }
      ]
    },
    {
      "cell_type": "code",
      "source": [
        "x[0,0,:]"
      ],
      "metadata": {
        "colab": {
          "base_uri": "https://localhost:8080/"
        },
        "id": "jDIFKVf9gNm8",
        "outputId": "21d2f820-c91e-4eb9-d5c4-2f3459549af0"
      },
      "execution_count": 104,
      "outputs": [
        {
          "output_type": "execute_result",
          "data": {
            "text/plain": [
              "tensor([1, 2, 3, 4, 5])"
            ]
          },
          "metadata": {},
          "execution_count": 104
        }
      ]
    },
    {
      "cell_type": "code",
      "source": [
        "# Python tensors and numpy\n",
        "\n",
        "import torch\n",
        "import numpy as np\n",
        "\n",
        "array = np.arange(1.0, 8.0)\n",
        "tensor = torch.from_numpy(array)\n",
        "array, tensor"
      ],
      "metadata": {
        "colab": {
          "base_uri": "https://localhost:8080/"
        },
        "id": "hne9mTL0gbrM",
        "outputId": "36c2a8a5-2e3c-4a5d-a85b-d4576f9be98a"
      },
      "execution_count": 107,
      "outputs": [
        {
          "output_type": "execute_result",
          "data": {
            "text/plain": [
              "(array([1., 2., 3., 4., 5., 6., 7.]),\n",
              " tensor([1., 2., 3., 4., 5., 6., 7.], dtype=torch.float64))"
            ]
          },
          "metadata": {},
          "execution_count": 107
        }
      ]
    },
    {
      "cell_type": "code",
      "source": [
        "#change the value of array\n",
        "\n",
        "array = array + 1\n",
        "array, tensor"
      ],
      "metadata": {
        "colab": {
          "base_uri": "https://localhost:8080/"
        },
        "id": "c0PVLHWDhbCv",
        "outputId": "4b6906c8-3fa6-4e47-d613-ed96641f5d7a"
      },
      "execution_count": 108,
      "outputs": [
        {
          "output_type": "execute_result",
          "data": {
            "text/plain": [
              "(array([2., 3., 4., 5., 6., 7., 8.]),\n",
              " tensor([1., 2., 3., 4., 5., 6., 7.], dtype=torch.float64))"
            ]
          },
          "metadata": {},
          "execution_count": 108
        }
      ]
    },
    {
      "cell_type": "code",
      "source": [
        "tensor = torch.ones(7)\n",
        "numpy_tensor = tensor.numpy()\n",
        "tensor, numpy_tensor"
      ],
      "metadata": {
        "colab": {
          "base_uri": "https://localhost:8080/"
        },
        "id": "k1543iYTiDTs",
        "outputId": "7a495e6d-2136-4581-ca54-131334c810a8"
      },
      "execution_count": 109,
      "outputs": [
        {
          "output_type": "execute_result",
          "data": {
            "text/plain": [
              "(tensor([1., 1., 1., 1., 1., 1., 1.]),\n",
              " array([1., 1., 1., 1., 1., 1., 1.], dtype=float32))"
            ]
          },
          "metadata": {},
          "execution_count": 109
        }
      ]
    },
    {
      "cell_type": "code",
      "source": [
        "# Change the tensor\n",
        "tensor = tensor + 1\n",
        "tensor, numpy_tensor"
      ],
      "metadata": {
        "colab": {
          "base_uri": "https://localhost:8080/"
        },
        "id": "zpMhtpN9iWwU",
        "outputId": "1544551e-d9fa-4769-b6ab-cc437d8490c0"
      },
      "execution_count": 110,
      "outputs": [
        {
          "output_type": "execute_result",
          "data": {
            "text/plain": [
              "(tensor([2., 2., 2., 2., 2., 2., 2.]),\n",
              " array([1., 1., 1., 1., 1., 1., 1.], dtype=float32))"
            ]
          },
          "metadata": {},
          "execution_count": 110
        }
      ]
    },
    {
      "cell_type": "code",
      "source": [
        "# Reproducbility (trying to take random out of random)\n",
        "\n",
        "# How a NN learns:\n",
        "# start with randopm numbers -> tensor operations -> update random numbers to try and make them better representations of the data -> again -> again -> again\n",
        "\n",
        "# To reduce the randomness in NN and pytorch we have the concept of random seed"
      ],
      "metadata": {
        "id": "lBxN7eQcihw_"
      },
      "execution_count": 111,
      "outputs": []
    },
    {
      "cell_type": "code",
      "source": [
        "torch.rand(3,3)"
      ],
      "metadata": {
        "colab": {
          "base_uri": "https://localhost:8080/"
        },
        "id": "fOyziPqLjEW5",
        "outputId": "56071076-4083-40cb-e02a-0e6d2ce32eb6"
      },
      "execution_count": 113,
      "outputs": [
        {
          "output_type": "execute_result",
          "data": {
            "text/plain": [
              "tensor([[0.4709, 0.7669, 0.9470],\n",
              "        [0.7173, 0.2354, 0.4560],\n",
              "        [0.9578, 0.9168, 0.8500]])"
            ]
          },
          "metadata": {},
          "execution_count": 113
        }
      ]
    },
    {
      "cell_type": "code",
      "source": [
        "random_tensor_A = torch.rand(3,4)\n",
        "random_tensor_B = torch.rand(3,4)\n",
        "\n",
        "print(random_tensor_A)\n",
        "print(random_tensor_B)\n",
        "print(random_tensor_A == random_tensor_B)"
      ],
      "metadata": {
        "colab": {
          "base_uri": "https://localhost:8080/"
        },
        "id": "paqhKDO5jGIo",
        "outputId": "432df226-4629-4e4f-cfdf-2994db0e85af"
      },
      "execution_count": 115,
      "outputs": [
        {
          "output_type": "stream",
          "name": "stdout",
          "text": [
            "tensor([[0.6877, 0.1122, 0.2408, 0.5541],\n",
            "        [0.0627, 0.3809, 0.2868, 0.4876],\n",
            "        [0.6266, 0.1887, 0.9390, 0.8570]])\n",
            "tensor([[0.4181, 0.6634, 0.9306, 0.6652],\n",
            "        [0.7943, 0.4836, 0.2200, 0.8503],\n",
            "        [0.7849, 0.0119, 0.7899, 0.7636]])\n",
            "tensor([[False, False, False, False],\n",
            "        [False, False, False, False],\n",
            "        [False, False, False, False]])\n"
          ]
        }
      ]
    },
    {
      "cell_type": "code",
      "source": [
        "# Add random but reproducible tensors\n",
        "\n",
        "RANDOM_SEED = 42\n",
        "\n",
        "torch.manual_seed(RANDOM_SEED)\n",
        "random_tensor_C = torch.rand(3,4)\n",
        "\n",
        "torch.manual_seed(RANDOM_SEED)\n",
        "random_tensor_D = torch.rand(3,4)\n",
        "\n",
        "print(random_tensor_C)\n",
        "print(random_tensor_D)\n",
        "print(random_tensor_C == random_tensor_D)"
      ],
      "metadata": {
        "colab": {
          "base_uri": "https://localhost:8080/"
        },
        "id": "PhCqdH04kLqX",
        "outputId": "fd53551a-d683-47c0-a351-2009ae58d1f6"
      },
      "execution_count": 120,
      "outputs": [
        {
          "output_type": "stream",
          "name": "stdout",
          "text": [
            "tensor([[0.8823, 0.9150, 0.3829, 0.9593],\n",
            "        [0.3904, 0.6009, 0.2566, 0.7936],\n",
            "        [0.9408, 0.1332, 0.9346, 0.5936]])\n",
            "tensor([[0.8823, 0.9150, 0.3829, 0.9593],\n",
            "        [0.3904, 0.6009, 0.2566, 0.7936],\n",
            "        [0.9408, 0.1332, 0.9346, 0.5936]])\n",
            "tensor([[True, True, True, True],\n",
            "        [True, True, True, True],\n",
            "        [True, True, True, True]])\n"
          ]
        }
      ]
    },
    {
      "cell_type": "code",
      "source": [
        "# Running tensors and Pytorch object on the GPUS\n",
        "\n",
        "# 1. Using Google Collab for a free GPU (options to upgrade as well)\n",
        "# 2. Use your own GPU - takes a little bit of setup and requires the investment of purchasing a GPU\n",
        "# 3. Use cloud computing - GCP\n",
        "\n",
        "!nvidia-smi"
      ],
      "metadata": {
        "colab": {
          "base_uri": "https://localhost:8080/"
        },
        "id": "XtILgWONksJQ",
        "outputId": "79c5ea00-b406-44ca-f5b0-1bd8956f348c"
      },
      "execution_count": 1,
      "outputs": [
        {
          "output_type": "stream",
          "name": "stdout",
          "text": [
            "Tue Jul 30 07:51:57 2024       \n",
            "+---------------------------------------------------------------------------------------+\n",
            "| NVIDIA-SMI 535.104.05             Driver Version: 535.104.05   CUDA Version: 12.2     |\n",
            "|-----------------------------------------+----------------------+----------------------+\n",
            "| GPU  Name                 Persistence-M | Bus-Id        Disp.A | Volatile Uncorr. ECC |\n",
            "| Fan  Temp   Perf          Pwr:Usage/Cap |         Memory-Usage | GPU-Util  Compute M. |\n",
            "|                                         |                      |               MIG M. |\n",
            "|=========================================+======================+======================|\n",
            "|   0  Tesla T4                       Off | 00000000:00:04.0 Off |                    0 |\n",
            "| N/A   43C    P8               9W /  70W |      0MiB / 15360MiB |      0%      Default |\n",
            "|                                         |                      |                  N/A |\n",
            "+-----------------------------------------+----------------------+----------------------+\n",
            "                                                                                         \n",
            "+---------------------------------------------------------------------------------------+\n",
            "| Processes:                                                                            |\n",
            "|  GPU   GI   CI        PID   Type   Process name                            GPU Memory |\n",
            "|        ID   ID                                                             Usage      |\n",
            "|=======================================================================================|\n",
            "|  No running processes found                                                           |\n",
            "+---------------------------------------------------------------------------------------+\n"
          ]
        }
      ]
    },
    {
      "cell_type": "code",
      "source": [
        "# Check for gpu access with PyTorch\n",
        "import torch\n",
        "torch.cuda.is_available()"
      ],
      "metadata": {
        "colab": {
          "base_uri": "https://localhost:8080/"
        },
        "id": "tAhQQuz-n9qa",
        "outputId": "f98e5224-5eaa-48aa-ee52-bc0f91bbf1bd"
      },
      "execution_count": 3,
      "outputs": [
        {
          "output_type": "execute_result",
          "data": {
            "text/plain": [
              "True"
            ]
          },
          "metadata": {},
          "execution_count": 3
        }
      ]
    },
    {
      "cell_type": "code",
      "source": [
        "device = 'cuda' if torch.cuda.is_available() else 'cpu'\n",
        "device"
      ],
      "metadata": {
        "colab": {
          "base_uri": "https://localhost:8080/",
          "height": 35
        },
        "id": "R3HO1WagoXfM",
        "outputId": "c250e860-0764-4cae-e10f-ada09637ac8a"
      },
      "execution_count": 4,
      "outputs": [
        {
          "output_type": "execute_result",
          "data": {
            "text/plain": [
              "'cuda'"
            ],
            "application/vnd.google.colaboratory.intrinsic+json": {
              "type": "string"
            }
          },
          "metadata": {},
          "execution_count": 4
        }
      ]
    },
    {
      "cell_type": "code",
      "source": [
        "# Count the number of gpus\n",
        "torch.cuda.device_count()"
      ],
      "metadata": {
        "colab": {
          "base_uri": "https://localhost:8080/"
        },
        "id": "Oz_rTT20oqrn",
        "outputId": "a4cac448-9699-4312-9784-2e5f006d9899"
      },
      "execution_count": 5,
      "outputs": [
        {
          "output_type": "execute_result",
          "data": {
            "text/plain": [
              "1"
            ]
          },
          "metadata": {},
          "execution_count": 5
        }
      ]
    },
    {
      "cell_type": "code",
      "source": [
        "# Putting tensors and models on the GPU for faster computations\n",
        "\n",
        "tensor = torch.tensor([1,2,3])\n",
        "\n",
        "print(tensor, tensor.device)"
      ],
      "metadata": {
        "colab": {
          "base_uri": "https://localhost:8080/"
        },
        "id": "cCC8BaRgoz_-",
        "outputId": "00488534-cf56-4d20-9596-9f0a0fc9a0c9"
      },
      "execution_count": 6,
      "outputs": [
        {
          "output_type": "stream",
          "name": "stdout",
          "text": [
            "tensor([1, 2, 3]) cpu\n"
          ]
        }
      ]
    },
    {
      "cell_type": "code",
      "source": [
        "# Move tensor to gpu if available\n",
        "\n",
        "tensor_on_gpu = tensor.to(device)\n",
        "tensor_on_gpu"
      ],
      "metadata": {
        "colab": {
          "base_uri": "https://localhost:8080/"
        },
        "id": "_gB4K3MkrAxJ",
        "outputId": "a173d001-5576-4b79-afef-99d30345c079"
      },
      "execution_count": 7,
      "outputs": [
        {
          "output_type": "execute_result",
          "data": {
            "text/plain": [
              "tensor([1, 2, 3], device='cuda:0')"
            ]
          },
          "metadata": {},
          "execution_count": 7
        }
      ]
    },
    {
      "cell_type": "code",
      "source": [
        "# If tensor is on GPU, cant transform it to numpy\n",
        "\n",
        "tensor_on_gpu.numpy()"
      ],
      "metadata": {
        "colab": {
          "base_uri": "https://localhost:8080/",
          "height": 176
        },
        "id": "BVcfgy4QrLM_",
        "outputId": "64f74fc4-13cd-4b71-8e65-7809ee302182"
      },
      "execution_count": 8,
      "outputs": [
        {
          "output_type": "error",
          "ename": "TypeError",
          "evalue": "can't convert cuda:0 device type tensor to numpy. Use Tensor.cpu() to copy the tensor to host memory first.",
          "traceback": [
            "\u001b[0;31m---------------------------------------------------------------------------\u001b[0m",
            "\u001b[0;31mTypeError\u001b[0m                                 Traceback (most recent call last)",
            "\u001b[0;32m<ipython-input-8-bea7dd018312>\u001b[0m in \u001b[0;36m<cell line: 3>\u001b[0;34m()\u001b[0m\n\u001b[1;32m      1\u001b[0m \u001b[0;31m# If tensor is on GPU, cant transform it to numpy\u001b[0m\u001b[0;34m\u001b[0m\u001b[0;34m\u001b[0m\u001b[0m\n\u001b[1;32m      2\u001b[0m \u001b[0;34m\u001b[0m\u001b[0m\n\u001b[0;32m----> 3\u001b[0;31m \u001b[0mtensor_on_gpu\u001b[0m\u001b[0;34m.\u001b[0m\u001b[0mnumpy\u001b[0m\u001b[0;34m(\u001b[0m\u001b[0;34m)\u001b[0m\u001b[0;34m\u001b[0m\u001b[0;34m\u001b[0m\u001b[0m\n\u001b[0m",
            "\u001b[0;31mTypeError\u001b[0m: can't convert cuda:0 device type tensor to numpy. Use Tensor.cpu() to copy the tensor to host memory first."
          ]
        }
      ]
    },
    {
      "cell_type": "code",
      "source": [
        "# To fix the gpu tensor with NumPy we can set it first to cpu\n",
        "\n",
        "tensor_back_on_cpu = tensor_on_gpu.cpu().numpy()\n",
        "tensor_back_on_cpu"
      ],
      "metadata": {
        "colab": {
          "base_uri": "https://localhost:8080/"
        },
        "id": "dKO0y007r7ed",
        "outputId": "c38f72a7-5fae-4b70-cdfb-4f167806539d"
      },
      "execution_count": 9,
      "outputs": [
        {
          "output_type": "execute_result",
          "data": {
            "text/plain": [
              "array([1, 2, 3])"
            ]
          },
          "metadata": {},
          "execution_count": 9
        }
      ]
    },
    {
      "cell_type": "code",
      "source": [
        "## Exercises"
      ],
      "metadata": {
        "id": "-JbUD1JWsJbK"
      },
      "execution_count": 10,
      "outputs": []
    },
    {
      "cell_type": "code",
      "source": [
        "random_tensor = torch.rand(7,7)\n",
        "random_tensor"
      ],
      "metadata": {
        "colab": {
          "base_uri": "https://localhost:8080/"
        },
        "id": "B6iWtM8-srsq",
        "outputId": "7162f4f7-f58c-4794-e717-e377ce15ff33"
      },
      "execution_count": 12,
      "outputs": [
        {
          "output_type": "execute_result",
          "data": {
            "text/plain": [
              "tensor([[0.5220, 0.5759, 0.8054, 0.6047, 0.3758, 0.6973, 0.7450],\n",
              "        [0.3165, 0.5689, 0.4501, 0.5187, 0.3242, 0.9330, 0.6063],\n",
              "        [0.3185, 0.7803, 0.0883, 0.7697, 0.6666, 0.8447, 0.1583],\n",
              "        [0.5749, 0.2280, 0.6442, 0.8201, 0.7996, 0.3457, 0.6704],\n",
              "        [0.7022, 0.9942, 0.0140, 0.8793, 0.4617, 0.8470, 0.3726],\n",
              "        [0.7471, 0.7313, 0.4165, 0.5328, 0.0616, 0.0641, 0.7516],\n",
              "        [0.7451, 0.9450, 0.7772, 0.6657, 0.7813, 0.3857, 0.9134]])"
            ]
          },
          "metadata": {},
          "execution_count": 12
        }
      ]
    },
    {
      "cell_type": "code",
      "source": [
        "random_tensor_2 = torch.rand(1,7)\n",
        "\n",
        "torch.mm(random_tensor,random_tensor_2.T)"
      ],
      "metadata": {
        "colab": {
          "base_uri": "https://localhost:8080/"
        },
        "id": "jdmjye98xEaV",
        "outputId": "b4aae34d-74f5-46ea-ff7e-5db63d4dcce8"
      },
      "execution_count": 13,
      "outputs": [
        {
          "output_type": "execute_result",
          "data": {
            "text/plain": [
              "tensor([[2.4927],\n",
              "        [2.1973],\n",
              "        [2.2433],\n",
              "        [2.3794],\n",
              "        [2.7268],\n",
              "        [2.0047],\n",
              "        [2.9371]])"
            ]
          },
          "metadata": {},
          "execution_count": 13
        }
      ]
    },
    {
      "cell_type": "code",
      "source": [
        "SEED = 0\n",
        "\n",
        "torch.manual_seed(SEED)\n",
        "random_tensor = torch.rand(7,7)\n",
        "random_tensor_2 = torch.rand(1,7)\n",
        "\n",
        "torch.mm(random_tensor,random_tensor_2.T)\n"
      ],
      "metadata": {
        "colab": {
          "base_uri": "https://localhost:8080/"
        },
        "id": "ZFfZz6X7xRaf",
        "outputId": "45793578-7b61-48aa-cba8-c2ad1b03f6b7"
      },
      "execution_count": 14,
      "outputs": [
        {
          "output_type": "execute_result",
          "data": {
            "text/plain": [
              "tensor([[1.8542],\n",
              "        [1.9611],\n",
              "        [2.2884],\n",
              "        [3.0481],\n",
              "        [1.7067],\n",
              "        [2.5290],\n",
              "        [1.7989]])"
            ]
          },
          "metadata": {},
          "execution_count": 14
        }
      ]
    },
    {
      "cell_type": "code",
      "source": [
        "random_gpu_tensor = torch.cuda.FloatTensor(10, 10).normal_()\n",
        "random_gpu_tensor"
      ],
      "metadata": {
        "colab": {
          "base_uri": "https://localhost:8080/"
        },
        "id": "gWs6sPuJxZJr",
        "outputId": "52f0e08b-23e0-475a-cb79-c1ccc1f122fb"
      },
      "execution_count": 19,
      "outputs": [
        {
          "output_type": "execute_result",
          "data": {
            "text/plain": [
              "tensor([[ 2.5441, -0.7163, -0.4934,  0.1267,  0.1014, -0.4035,  0.9023,  0.8099,\n",
              "         -0.6884,  0.1372],\n",
              "        [ 1.0377,  0.0925, -0.3752, -0.0908,  2.0639, -1.8164, -0.2719,  0.2811,\n",
              "         -1.0399,  0.7765],\n",
              "        [ 0.8814,  0.0444, -1.4870,  1.1334,  1.3268, -1.2616,  0.9501, -0.6558,\n",
              "          0.9098, -0.6290],\n",
              "        [-0.6587,  2.0811,  1.4151, -0.3091, -0.2055,  2.0562, -0.0490, -0.6361,\n",
              "         -0.5359, -0.1310],\n",
              "        [-0.2945,  1.2275,  1.0549,  0.3576,  1.6378, -0.2310,  0.7883, -0.0807,\n",
              "         -0.3924,  1.2673],\n",
              "        [ 1.0420, -0.4945, -1.1637,  1.5740,  0.7116,  0.6104,  1.2852, -0.6533,\n",
              "          1.1171, -1.0067],\n",
              "        [ 1.2912,  1.6028,  0.1332,  1.0703, -1.1161, -0.8396, -3.6680,  0.8189,\n",
              "          0.1255, -0.7691],\n",
              "        [ 0.1552, -0.8782, -0.4734,  0.9690, -1.9985,  0.1030,  0.8580,  0.7625,\n",
              "         -1.2587, -0.8183],\n",
              "        [ 1.8004, -0.7912,  0.1998,  1.6940, -1.1763,  0.6664,  0.8763, -1.2800,\n",
              "          1.1577, -1.9698],\n",
              "        [ 2.0708, -1.1226, -0.1046, -1.0213, -0.3302, -0.8622,  0.2430,  1.7252,\n",
              "         -1.7493, -1.8187]], device='cuda:0')"
            ]
          },
          "metadata": {},
          "execution_count": 19
        }
      ]
    },
    {
      "cell_type": "code",
      "source": [
        "torch.manual_seed(1234)\n",
        "tensor1 = torch.rand(2,3)\n",
        "tensor2 = torch.rand(2,3)\n",
        "\n",
        "tensor1_on_gpu = tensor1.to(device)\n",
        "tensor2_on_gpu = tensor2.to(device)\n",
        "\n",
        "tensor1_on_gpu, tensor2_on_gpu"
      ],
      "metadata": {
        "colab": {
          "base_uri": "https://localhost:8080/"
        },
        "id": "n_EvJdU1x0g9",
        "outputId": "50faae32-61b2-426a-cf94-6687288ef4c6"
      },
      "execution_count": 20,
      "outputs": [
        {
          "output_type": "execute_result",
          "data": {
            "text/plain": [
              "(tensor([[0.0290, 0.4019, 0.2598],\n",
              "         [0.3666, 0.0583, 0.7006]], device='cuda:0'),\n",
              " tensor([[0.0518, 0.4681, 0.6738],\n",
              "         [0.3315, 0.7837, 0.5631]], device='cuda:0'))"
            ]
          },
          "metadata": {},
          "execution_count": 20
        }
      ]
    },
    {
      "cell_type": "code",
      "source": [
        "values_of_mm = torch.mm(tensor1_on_gpu, tensor2_on_gpu.T)\n",
        "values_of_mm"
      ],
      "metadata": {
        "colab": {
          "base_uri": "https://localhost:8080/"
        },
        "id": "3PqziXwmyvqD",
        "outputId": "b84da997-37ba-45b7-8006-a1366dd8706d"
      },
      "execution_count": 22,
      "outputs": [
        {
          "output_type": "execute_result",
          "data": {
            "text/plain": [
              "tensor([[0.3647, 0.4709],\n",
              "        [0.5184, 0.5617]], device='cuda:0')"
            ]
          },
          "metadata": {},
          "execution_count": 22
        }
      ]
    },
    {
      "cell_type": "code",
      "source": [
        "values_of_mm.min(), values_of_mm.max()"
      ],
      "metadata": {
        "colab": {
          "base_uri": "https://localhost:8080/"
        },
        "id": "Sw8fTQF2y1lv",
        "outputId": "f4446ead-e125-4f9e-da4b-13946b51bf35"
      },
      "execution_count": 29,
      "outputs": [
        {
          "output_type": "execute_result",
          "data": {
            "text/plain": [
              "(tensor(0.3647, device='cuda:0'), tensor(0.5617, device='cuda:0'))"
            ]
          },
          "metadata": {},
          "execution_count": 29
        }
      ]
    },
    {
      "cell_type": "code",
      "source": [
        "values_of_mm.argmax(), values_of_mm.argmin()"
      ],
      "metadata": {
        "colab": {
          "base_uri": "https://localhost:8080/"
        },
        "id": "cSVCIzFIzBH7",
        "outputId": "a3ad22e4-66c5-431f-9241-95787097f612"
      },
      "execution_count": 28,
      "outputs": [
        {
          "output_type": "execute_result",
          "data": {
            "text/plain": [
              "(tensor(3, device='cuda:0'), tensor(0, device='cuda:0'))"
            ]
          },
          "metadata": {},
          "execution_count": 28
        }
      ]
    },
    {
      "cell_type": "code",
      "source": [
        "torch.manual_seed(7)\n",
        "rand_tns = torch.rand(1,1,1,10)\n",
        "new_tens = rand_tns.squeeze()\n",
        "new_tens.shape, rand_tns.shape"
      ],
      "metadata": {
        "colab": {
          "base_uri": "https://localhost:8080/"
        },
        "id": "NYAzrqnSzMFE",
        "outputId": "5b552c94-e3a8-473d-bcf2-fecab74364b4"
      },
      "execution_count": 32,
      "outputs": [
        {
          "output_type": "execute_result",
          "data": {
            "text/plain": [
              "(torch.Size([10]), torch.Size([1, 1, 1, 10]))"
            ]
          },
          "metadata": {},
          "execution_count": 32
        }
      ]
    },
    {
      "cell_type": "code",
      "source": [],
      "metadata": {
        "id": "8sUzKC57zYZk"
      },
      "execution_count": null,
      "outputs": []
    }
  ]
}